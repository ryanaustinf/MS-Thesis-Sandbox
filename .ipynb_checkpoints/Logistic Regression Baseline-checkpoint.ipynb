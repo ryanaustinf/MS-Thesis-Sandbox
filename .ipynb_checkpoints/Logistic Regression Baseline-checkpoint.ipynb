{
 "cells": [
  {
   "cell_type": "code",
   "execution_count": 3,
   "metadata": {},
   "outputs": [],
   "source": [
    "# https://github.com/pytorch/examples/blob/master/mnist/main.py\n",
    "from __future__ import print_function\n",
    "%matplotlib inline\n",
    "import pandas as pd\n",
    "import matplotlib.pyplot as plt\n",
    "import argparse\n",
    "import torch\n",
    "import torch.nn as nn\n",
    "import torch.nn.functional as F\n",
    "import torch.optim as optim\n",
    "from torchvision import datasets, transforms\n",
    "from torch.autograd import Variable\n",
    "import numpy as np\n",
    "import PIL\n",
    "from random import shuffle\n",
    "from skimage.transform import resize\n",
    "from torch.utils.data import Dataset, DataLoader\n",
    "from tqdm import tqdm"
   ]
  },
  {
   "cell_type": "code",
   "execution_count": 4,
   "metadata": {},
   "outputs": [],
   "source": [
    "sites = [\n",
    "\t{\"id\": \"1-800-flowers\", \"count\" : 15,\"label\" : 0},\n",
    "\t{\"id\": \"Alfred Sung\", \"count\" : 15,\"label\" : 0},\n",
    "\t{\"id\": \"Alibaba\", \"count\" : 15,\"label\" : 1},\n",
    "\t{\"id\": \"Amazon\", \"count\" : 18,\"label\" : 1},\n",
    "\t{\"id\": \"American Apparel\", \"count\" : 15,\"label\" : 0},\n",
    "\t{\"id\": \"Arngren\", \"count\" : 15,\"label\" : 0},\n",
    "\t{\"id\": \"Azteca Soccer\", \"count\" : 15,\"label\" : 1},\n",
    "\t{\"id\": \"Best Electronic\", \"count\" : 17,\"label\" : 0},\n",
    "\t{\"id\": \"BestBuy\", \"count\" : 18,\"label\" : 1},\n",
    "\t{\"id\": \"BigCommerce\", \"count\" : 18,\"label\" : 1},\n",
    "\t{\"id\": \"Blinkee\", \"count\" : 16,\"label\" : 0},\n",
    "\t{\"id\": \"Bliss\", \"count\" : 15,\"label\" : 1},\n",
    "\t{\"id\": \"BonBonBon\", \"count\" : 19,\"label\" : 1},\n",
    "\t{\"id\": \"Costco\", \"count\" : 15,\"label\" : 0},\n",
    "\t{\"id\": \"CruiseMaster\", \"count\" : 15,\"label\" : 1},\n",
    "\t{\"id\": \"Custom Barres\", \"count\" : 15,\"label\" : 1},\n",
    "\t{\"id\": \"CVS\", \"count\" : 15,\"label\" : 0},\n",
    "\t{\"id\": \"Decibullz\", \"count\" : 15,\"label\" : 1},\n",
    "\t{\"id\": \"DSW\", \"count\" : 16,\"label\" : 0},\n",
    "\t{\"id\": \"eBay\", \"count\" : 16,\"label\" : 1},\n",
    "\t{\"id\": \"Electrifying Times\", \"count\" : 15,\"label\" : 0},\n",
    "\t{\"id\": \"Fanatics\", \"count\" : 15,\"label\" : 0},\n",
    "\t{\"id\": \"Flipkart\", \"count\" : 15,\"label\" : 1},\n",
    "\t{\"id\": \"Footlocker\", \"count\" : 15,\"label\" : 0},\n",
    "\t{\"id\": \"Free City Supershop\", \"count\" : 11,\"label\" : 0},\n",
    "\t{\"id\": \"H & M\", \"count\" : 19,\"label\" : 0},\n",
    "\t{\"id\": \"Home Science Tools\", \"count\" : 15,\"label\" : 1},\n",
    "\t{\"id\": \"Ikea\", \"count\" : 16,\"label\" : 0},\n",
    "\t{\"id\": \"Jabong\", \"count\" : 15,\"label\" : 1},\n",
    "\t{\"id\": \"Jeep People\", \"count\" : 15,\"label\" : 1},\n",
    "\t{\"id\": \"Koi Computer\", \"count\" : 15,\"label\" : 1},\n",
    "\t{\"id\": \"Lazada\", \"count\" : 16,\"label\" : 1},\n",
    "\t{\"id\": \"Ling's Cars\", \"count\" : 15,\"label\" : 0},\n",
    "\t{\"id\": \"Mednat\", \"count\" : 15,\"label\" : 0},\n",
    "\t{\"id\": \"Mercia Tourist Board\", \"count\" : 12,\"label\" : 0},\n",
    "\t{\"id\": \"Microcenter.com\", \"count\" : 18, \"label\" : 0},\n",
    "\t{\"id\": \"Next Chapter\", \"count\" : 15,\"label\" : 1},\n",
    "\t{\"id\": \"Nordstrom\", \"count\" : 16,\"label\" : 0},\n",
    "\t{\"id\": \"Opensky\", \"count\" : 15,\"label\" : 0},\n",
    "\t{\"id\": \"P & M Computers\", \"count\" : 15,\"label\" : 0},\n",
    "\t{\"id\": \"Paradise With A View\", \"count\" : 15,\"label\" : 0},\n",
    "\t{\"id\": \"Pennyjuice\", \"count\" : 12,\"label\" : 0},\n",
    "\t{\"id\": \"Rakuten\", \"count\" : 19,\"label\" : 0},\n",
    "\t{\"id\": \"RalphLauren.com\", \"count\" : 19,\"label\" : 0},\n",
    "\t{\"id\": \"Renogy\", \"count\" : 16,\"label\" : 1},\n",
    "\t{\"id\": \"Rusty Surfboards\", \"count\" : 15,\"label\" : 1},\n",
    "\t{\"id\": \"Shopee\", \"count\" : 16,\"label\" : 1},\n",
    "\t{\"id\": \"Shopify\", \"count\" : 15,\"label\" : 1},\n",
    "\t{\"id\": \"Signal Boosters\", \"count\" : 15,\"label\" : 1},\n",
    "\t{\"id\": \"Skullcandy\", \"count\" : 16,\"label\" : 1},\n",
    "\t{\"id\": \"SnapDeal\", \"count\" : 15,\"label\" : 1},\n",
    "\t{\"id\": \"Suzanne Collins Books\", \"count\" : 15,\"label\" : 0},\n",
    "\t{\"id\": \"The Mountain\", \"count\" : 18,\"label\" : 1},\n",
    "\t{\"id\": \"True Links Wear\", \"count\" : 16,\"label\" : 1},\n",
    "\t{\"id\": \"Urban Outfitters\", \"count\" : 15,\"label\" : 0},\n",
    "\t{\"id\": \"Walgreens\", \"count\" : 16,\"label\" : 0},\n",
    "\t{\"id\": \"Walmart\", \"count\" : 15,\"label\" : 1},\n",
    "\t{\"id\": \"Water Equipment\", \"count\" : 18,\"label\" : 0},\n",
    "\t{\"id\": \"Woocommerce\", \"count\" : 15,\"label\" : 1},\n",
    "\t{\"id\": \"Zalora\", \"count\" : 16,\"label\" : 1}   \n",
    "]"
   ]
  },
  {
   "cell_type": "code",
   "execution_count": null,
   "metadata": {
    "scrolled": true
   },
   "outputs": [],
   "source": [
    "folds = [[] for i in range(5)]\n",
    "good = [x for x in sites if x[\"label\"] == 1]\n",
    "bad = [x for x in sites if x[\"label\"] == 0]\n",
    "shuffle(good)\n",
    "shuffle(bad)\n",
    "for i in range(30):\n",
    "    folds[i//6].append(good[i])\n",
    "    folds[i//6].append(bad[i])\n",
    "\n",
    "for i in range(5):\n",
    "    print(\"Fold\",i);\n",
    "    for j in folds[i]:\n",
    "        print(j[\"id\"],j[\"count\"],j[\"label\"])\n",
    "    print()"
   ]
  },
  {
   "cell_type": "code",
   "execution_count": null,
   "metadata": {},
   "outputs": [],
   "source": [
    "# data = [[] for i in range(5)]\n",
    "# labels = [[] for i in range(5)]\n",
    "# sum = 0\n",
    "# for i in range(0,5):\n",
    "#     for site in folds[i]:\n",
    "#         sum += site[\"count\"]\n",
    "#         for j in range(1,site['count'] + 1):\n",
    "# #         for i in range(1,2):\n",
    "#             labels[i] = labels[i] + [site[\"label\"]]\n",
    "#             temp = PIL.Image.open(\"%s/%s - %02d.png\" % (site['id'],site['id'],j))\n",
    "#             temp = np.array(temp);\n",
    "#             temp = resize(temp, (temp.shape[0] // 2, temp.shape[1] // 2), anti_aliasing=True)\n",
    "#             data[i].append(temp)\n",
    "#             print(\"Loading %s/%s - %02d.png\" % (site['id'],site['id'],j))\n",
    "# print(\"Loaded %d screens.\" % sum)\n",
    "# print(labels)"
   ]
  },
  {
   "cell_type": "code",
   "execution_count": 5,
   "metadata": {},
   "outputs": [],
   "source": [
    "import pickle"
   ]
  },
  {
   "cell_type": "code",
   "execution_count": null,
   "metadata": {},
   "outputs": [],
   "source": [
    "# with open('data.pt', 'wb') as f:\n",
    "#     pickle.dump(data, f)\n",
    "    \n",
    "# with open('labels.pt', 'wb') as f:\n",
    "#     pickle.dump(labels, f)"
   ]
  },
  {
   "cell_type": "code",
   "execution_count": 6,
   "metadata": {},
   "outputs": [],
   "source": [
    "with open('data.pt', 'rb') as f:\n",
    "    data = pickle.load(f)\n",
    "    \n",
    "with open('labels.pt', 'rb') as f:\n",
    "    labels = pickle.load(f)"
   ]
  },
  {
   "cell_type": "code",
   "execution_count": 35,
   "metadata": {},
   "outputs": [],
   "source": [
    "class LogisticRegression(torch.nn.Module):\n",
    "    def __init__(self):\n",
    "        super(LogisticRegression, self).__init__()\n",
    "        self.linear = torch.nn.Linear(786816,2)\n",
    "#         self.linear = torch.nn.Linear(1,1)\n",
    "    \n",
    "    def forward(self, x):\n",
    "        x = x.view(x.size(0),-1)\n",
    "#         print(x.shape)\n",
    "        out = torch.sigmoid(self.linear(x))\n",
    "        return out"
   ]
  },
  {
   "cell_type": "code",
   "execution_count": 11,
   "metadata": {},
   "outputs": [],
   "source": [
    "class AutoUXDataset(Dataset):\n",
    "    def __init__(self, data, labels,isTrain=True):\n",
    "        self.data = data\n",
    "        self.labels = labels\n",
    "        self.isTrain = isTrain\n",
    "        self.setTest(0)\n",
    "\n",
    "    def __len__(self):\n",
    "        if self.isTrain:\n",
    "            return len(self.trainX)\n",
    "        else:\n",
    "            return len(self.testX)\n",
    "\n",
    "    def setTest(self,testI):\n",
    "        d = []\n",
    "        l = []\n",
    "        for i in range(5):\n",
    "            if i != testI:\n",
    "                d = d + data[i];\n",
    "                l = l + labels[i]\n",
    "            else:\n",
    "                self.testX = torch.from_numpy(np.asarray(data[i],dtype=np.uint8)).type('torch.FloatTensor')\n",
    "                self.testY = torch.from_numpy(np.asarray(labels[i],dtype=np.uint8)).type('torch.LongTensor')\n",
    "                \n",
    "        self.trainX = torch.from_numpy(np.asarray(d,dtype=np.uint8)).type('torch.FloatTensor')\n",
    "        self.trainY = torch.from_numpy(np.asarray(l,dtype=np.uint8)).type('torch.LongTensor')\n",
    "    \n",
    "    def __getitem__(self, idx):\n",
    "        if self.isTrain:\n",
    "            return {\"img\" : self.trainX[idx], \"label\": self.trainY[idx]}\n",
    "        else:\n",
    "            return {\"img\" : self.testX[idx], \"label\": self.testY[idx]}"
   ]
  },
  {
   "cell_type": "code",
   "execution_count": 36,
   "metadata": {},
   "outputs": [],
   "source": [
    "def train_batch(model,crit,opt,x, y):\n",
    "    opt.zero_grad()\n",
    "    y_pred = model(x)\n",
    "    loss = crit(y_pred, y)\n",
    "    loss.backward()\n",
    "    opt.step() \n",
    "    return loss.item(),torch.sum(torch.max(y_pred, 1)[1] == y).item() / len(y)"
   ]
  },
  {
   "cell_type": "code",
   "execution_count": 37,
   "metadata": {},
   "outputs": [],
   "source": [
    "def train(model,crit,opt,dataload,disable=False):\n",
    "    # Training loop\n",
    "    dloss, dacc = 0,0\n",
    "    for s in tqdm(dataload,disable=disable):\n",
    "        x, y = s.values()\n",
    "        x = x.cuda()\n",
    "        y = y.cuda()\n",
    "        lo, acc = train_batch(model,crit,opt,x,y)\n",
    "        dloss += lo\n",
    "        dacc += acc\n",
    "    dloss /= len(dataload)\n",
    "    dacc /= len(dataload)\n",
    "    return dloss,dacc"
   ]
  },
  {
   "cell_type": "code",
   "execution_count": 38,
   "metadata": {},
   "outputs": [],
   "source": [
    "def test_batch(model,crit,x, y):\n",
    "    y_pred = model(x)\n",
    "    loss = crit(y_pred, y)\n",
    "    return loss.item(),torch.sum(torch.max(y_pred, 1)[1] == y).item() / len(y)"
   ]
  },
  {
   "cell_type": "code",
   "execution_count": 39,
   "metadata": {},
   "outputs": [],
   "source": [
    "def test(model,crit,dataload,disable=False):\n",
    "    # Training loop\n",
    "    dloss, dacc = 0,0\n",
    "    with torch.no_grad():\n",
    "        for s in tqdm(dataload,disable=disable):\n",
    "            x, y = s.values()\n",
    "            x = x.cuda()\n",
    "            y = y.cuda()\n",
    "            lo, acc = test_batch(model,crit,x,y)\n",
    "            dloss += lo\n",
    "            dacc += acc\n",
    "    dloss /= len(dataload)\n",
    "    dacc /= len(dataload)\n",
    "    return dloss,dacc"
   ]
  },
  {
   "cell_type": "code",
   "execution_count": 40,
   "metadata": {},
   "outputs": [],
   "source": [
    "model = LogisticRegression().cuda()\n",
    "criterion = torch.nn.CrossEntropyLoss()\n",
    "optimizer = torch.optim.Adam(model.parameters(), lr=0.001)"
   ]
  },
  {
   "cell_type": "code",
   "execution_count": 46,
   "metadata": {},
   "outputs": [
    {
     "name": "stdout",
     "output_type": "stream",
     "text": [
      "Fold 1\n",
      "Epoch Train Loss: 4.470632  Epoch Train Accuracy: 53.755482  Epoch Test Loss: 4.446265  Epoch Test Accuracy: 48.505435\n",
      "Epoch Train Loss: 1.122958  Epoch Train Accuracy: 49.924616  Epoch Test Loss: 1.231882  Epoch Test Accuracy: 42.051630\n",
      "Epoch Train Loss: 0.756608  Epoch Train Accuracy: 50.760691  Epoch Test Loss: 0.749154  Epoch Test Accuracy: 58.582428\n",
      "Epoch Train Loss: 0.717838  Epoch Train Accuracy: 52.282072  Epoch Test Loss: 0.716667  Epoch Test Accuracy: 47.871377\n",
      "Epoch Train Loss: 0.704440  Epoch Train Accuracy: 53.282621  Epoch Test Loss: 0.674821  Epoch Test Accuracy: 57.336957\n",
      "Fold 2\n",
      "Epoch Train Loss: 5.771656  Epoch Train Accuracy: 53.632127  Epoch Test Loss: 3.463297  Epoch Test Accuracy: 53.487319\n",
      "Epoch Train Loss: 1.126074  Epoch Train Accuracy: 48.595121  Epoch Test Loss: 1.116939  Epoch Test Accuracy: 50.679348\n",
      "Epoch Train Loss: 0.789731  Epoch Train Accuracy: 49.890351  Epoch Test Loss: 0.711604  Epoch Test Accuracy: 54.959239\n",
      "Epoch Train Loss: 0.716896  Epoch Train Accuracy: 52.062774  Epoch Test Loss: 0.706072  Epoch Test Accuracy: 51.403986\n",
      "Epoch Train Loss: 0.699171  Epoch Train Accuracy: 51.672149  Epoch Test Loss: 0.685284  Epoch Test Accuracy: 55.140399\n",
      "Fold 3\n",
      "Epoch Train Loss: 5.607855  Epoch Train Accuracy: 51.866319  Epoch Test Loss: 3.093813  Epoch Test Accuracy: 53.645833\n",
      "Epoch Train Loss: 1.233082  Epoch Train Accuracy: 46.831597  Epoch Test Loss: 1.015154  Epoch Test Accuracy: 50.451389\n",
      "Epoch Train Loss: 0.739570  Epoch Train Accuracy: 49.609375  Epoch Test Loss: 0.718312  Epoch Test Accuracy: 53.750000\n",
      "Epoch Train Loss: 0.714182  Epoch Train Accuracy: 49.696181  Epoch Test Loss: 0.715787  Epoch Test Accuracy: 52.708333\n",
      "Epoch Train Loss: 0.696613  Epoch Train Accuracy: 53.949653  Epoch Test Loss: 0.688726  Epoch Test Accuracy: 56.944444\n",
      "Fold 4\n",
      "Epoch Train Loss: 7.099316  Epoch Train Accuracy: 48.741319  Epoch Test Loss: 4.148331  Epoch Test Accuracy: 48.437500\n",
      "Epoch Train Loss: 1.098726  Epoch Train Accuracy: 47.786458  Epoch Test Loss: 1.051246  Epoch Test Accuracy: 54.756944\n",
      "Epoch Train Loss: 0.756755  Epoch Train Accuracy: 50.000000  Epoch Test Loss: 0.752382  Epoch Test Accuracy: 49.375000\n",
      "Epoch Train Loss: 0.719644  Epoch Train Accuracy: 52.734375  Epoch Test Loss: 0.707366  Epoch Test Accuracy: 52.222222\n",
      "Epoch Train Loss: 0.698724  Epoch Train Accuracy: 51.519097  Epoch Test Loss: 0.726161  Epoch Test Accuracy: 48.333333\n",
      "Fold 5\n",
      "Epoch Train Loss: 5.895114  Epoch Train Accuracy: 50.677083  Epoch Test Loss: 3.089205  Epoch Test Accuracy: 57.812500\n",
      "Epoch Train Loss: 0.979458  Epoch Train Accuracy: 53.281250  Epoch Test Loss: 0.920895  Epoch Test Accuracy: 58.333333\n",
      "Epoch Train Loss: 0.741168  Epoch Train Accuracy: 53.307292  Epoch Test Loss: 0.774568  Epoch Test Accuracy: 46.354167\n",
      "Epoch Train Loss: 0.695872  Epoch Train Accuracy: 56.302083  Epoch Test Loss: 0.716451  Epoch Test Accuracy: 46.354167\n",
      "Epoch Train Loss: 0.701326  Epoch Train Accuracy: 55.755208  Epoch Test Loss: 0.718585  Epoch Test Accuracy: 43.229167\n",
      "Average Train Loss: 0.692851\n",
      "Average Train Accuracy: 0.537600\n",
      "Average Test Loss: 0.709960\n",
      "Average Test Accuracy: 0.509173\n",
      "\n"
     ]
    },
    {
     "data": {
      "image/png": "[encoded data removed]",
      "text/plain": [
       "<Figure size 432x288 with 1 Axes>"
      ]
     },
     "metadata": {
      "needs_background": "light"
     },
     "output_type": "display_data"
    },
    {
     "data": {
      "image/png": "[encoded data removed]",
      "text/plain": [
       "<Figure size 432x288 with 1 Axes>"
      ]
     },
     "metadata": {
      "needs_background": "light"
     },
     "output_type": "display_data"
    },
    {
     "data": {
      "image/png": "[encoded data removed]",
      "text/plain": [
       "<Figure size 432x288 with 1 Axes>"
      ]
     },
     "metadata": {
      "needs_background": "light"
     },
     "output_type": "display_data"
    },
    {
     "data": {
      "image/png": "[encoded data removed]",
      "text/plain": [
       "<Figure size 432x288 with 1 Axes>"
      ]
     },
     "metadata": {
      "needs_background": "light"
     },
     "output_type": "display_data"
    },
    {
     "data": {
      "image/png": "[encoded data removed]",
      "text/plain": [
       "<Figure size 432x288 with 1 Axes>"
      ]
     },
     "metadata": {
      "needs_background": "light"
     },
     "output_type": "display_data"
    }
   ],
   "source": [
    "avedloss, avedacc, avevloss, avevacc = 0,0,0,0\n",
    "my_data = AutoUXDataset(data,labels,True)\n",
    "my_test = AutoUXDataset(data,labels,False)\n",
    "\n",
    "batch_size = 32\n",
    "disable = True\n",
    "epochs = 50\n",
    "\n",
    "for i in range(5):\n",
    "    model = MLP(hidden_dim=256, dropout=0.3).cuda()\n",
    "    optimizer = optim.Adam(model.parameters(), lr=3e-4, weight_decay=0.1)\n",
    "    #amp_handle.wrap_optimizer(optimizer)\n",
    "    criterion = nn.CrossEntropyLoss()\n",
    "    #amp_handle = amp.init()\n",
    "    dlosscurve = []\n",
    "    dacccurve = []\n",
    "    vlosscurve = []\n",
    "    vacccurve = []\n",
    "    print(\"Fold %d\" % (i + 1))\n",
    "    my_data.setTest(i)\n",
    "    my_test.setTest(i)\n",
    "    \n",
    "    my_loader = DataLoader(my_data, batch_size=batch_size,\n",
    "                            shuffle=True)\n",
    "    my_test_loader = DataLoader(my_test, batch_size=batch_size,\n",
    "                            shuffle=True)\n",
    "    for j in range(epochs):\n",
    "        dloss, dacc = train(model,criterion,optimizer,my_loader,disable)\n",
    "        vloss, vacc = test(model,criterion,my_test_loader,disable)\n",
    "        dlosscurve.append(dloss)\n",
    "        dacccurve.append(dacc)\n",
    "        vlosscurve.append(vloss)\n",
    "        vacccurve.append(vacc)\n",
    "        if j % 10 == 0:\n",
    "            print(\"Epoch Train Loss: {:.6f}  Epoch Train Accuracy: {:.6f}  Epoch Test Loss: {:.6f}  Epoch Test Accuracy: {:.6f}\".format(dloss,dacc * 100,vloss,vacc * 100))\n",
    "    df = pd.DataFrame(data={\"train_loss\": dlosscurve, \"val_loss\": vlosscurve})\n",
    "    df.plot.line()\n",
    "    avedloss += dloss\n",
    "    avedacc += dacc\n",
    "    avevloss += vloss\n",
    "    avevacc += vacc\n",
    "avedloss /= 5\n",
    "avedacc /= 5\n",
    "avevloss /= 5\n",
    "avevacc /= 5\n",
    "print(\"Average Train Loss: {:.6f}\\nAverage Train Accuracy: {:.6f}\\nAverage Test Loss: {:.6f}\\nAverage Test Accuracy: {:.6f}\\n\".format(avedloss,avedacc,avevloss,avevacc))"
   ]
  },
  {
   "cell_type": "code",
   "execution_count": null,
   "metadata": {},
   "outputs": [],
   "source": []
  }
 ],
 "metadata": {
  "kernelspec": {
   "display_name": "Python 3",
   "language": "python",
   "name": "python3"
  },
  "language_info": {
   "codemirror_mode": {
    "name": "ipython",
    "version": 3
   },
   "file_extension": ".py",
   "mimetype": "text/x-python",
   "name": "python",
   "nbconvert_exporter": "python",
   "pygments_lexer": "ipython3",
   "version": "3.7.1"
  }
 },
 "nbformat": 4,
 "nbformat_minor": 2
}
