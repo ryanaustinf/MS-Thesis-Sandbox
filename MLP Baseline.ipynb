{
 "cells": [
  {
   "cell_type": "code",
   "execution_count": 1,
   "metadata": {},
   "outputs": [],
   "source": [
    "# https://github.com/pytorch/examples/blob/master/mnist/main.py\n",
    "from __future__ import print_function\n",
    "%matplotlib inline\n",
    "import pandas as pd\n",
    "import matplotlib.pyplot as plt\n",
    "import argparse\n",
    "import torch\n",
    "import torch.nn as nn\n",
    "import torch.nn.functional as F\n",
    "import torch.optim as optim\n",
    "from torchvision import datasets, transforms\n",
    "from torch.autograd import Variable\n",
    "import numpy as np\n",
    "import PIL\n",
    "from random import shuffle\n",
    "from skimage.transform import resize\n",
    "from torch.utils.data import Dataset, DataLoader\n",
    "from tqdm import tqdm"
   ]
  },
  {
   "cell_type": "code",
   "execution_count": 2,
   "metadata": {},
   "outputs": [],
   "source": [
    "sites = [\n",
    "\t{\"id\": \"1-800-flowers\", \"count\" : 15,\"label\" : 0},\n",
    "\t{\"id\": \"Alfred Sung\", \"count\" : 15,\"label\" : 0},\n",
    "\t{\"id\": \"Alibaba\", \"count\" : 15,\"label\" : 1},\n",
    "\t{\"id\": \"Amazon\", \"count\" : 18,\"label\" : 1},\n",
    "\t{\"id\": \"American Apparel\", \"count\" : 15,\"label\" : 0},\n",
    "\t{\"id\": \"Arngren\", \"count\" : 15,\"label\" : 0},\n",
    "\t{\"id\": \"Azteca Soccer\", \"count\" : 15,\"label\" : 1},\n",
    "\t{\"id\": \"Best Electronic\", \"count\" : 17,\"label\" : 0},\n",
    "\t{\"id\": \"BestBuy\", \"count\" : 18,\"label\" : 1},\n",
    "\t{\"id\": \"BigCommerce\", \"count\" : 18,\"label\" : 1},\n",
    "\t{\"id\": \"Blinkee\", \"count\" : 16,\"label\" : 0},\n",
    "\t{\"id\": \"Bliss\", \"count\" : 15,\"label\" : 1},\n",
    "\t{\"id\": \"BonBonBon\", \"count\" : 19,\"label\" : 1},\n",
    "\t{\"id\": \"Costco\", \"count\" : 15,\"label\" : 0},\n",
    "\t{\"id\": \"CruiseMaster\", \"count\" : 15,\"label\" : 1},\n",
    "\t{\"id\": \"Custom Barres\", \"count\" : 15,\"label\" : 1},\n",
    "\t{\"id\": \"CVS\", \"count\" : 15,\"label\" : 0},\n",
    "\t{\"id\": \"Decibullz\", \"count\" : 15,\"label\" : 1},\n",
    "\t{\"id\": \"DSW\", \"count\" : 16,\"label\" : 0},\n",
    "\t{\"id\": \"eBay\", \"count\" : 16,\"label\" : 1},\n",
    "\t{\"id\": \"Electrifying Times\", \"count\" : 15,\"label\" : 0},\n",
    "\t{\"id\": \"Fanatics\", \"count\" : 15,\"label\" : 0},\n",
    "\t{\"id\": \"Flipkart\", \"count\" : 15,\"label\" : 1},\n",
    "\t{\"id\": \"Footlocker\", \"count\" : 15,\"label\" : 0},\n",
    "\t{\"id\": \"Free City Supershop\", \"count\" : 11,\"label\" : 0},\n",
    "\t{\"id\": \"H & M\", \"count\" : 19,\"label\" : 0},\n",
    "\t{\"id\": \"Home Science Tools\", \"count\" : 15,\"label\" : 1},\n",
    "\t{\"id\": \"Ikea\", \"count\" : 16,\"label\" : 0},\n",
    "\t{\"id\": \"Jabong\", \"count\" : 15,\"label\" : 1},\n",
    "\t{\"id\": \"Jeep People\", \"count\" : 15,\"label\" : 1},\n",
    "\t{\"id\": \"Koi Computer\", \"count\" : 15,\"label\" : 1},\n",
    "\t{\"id\": \"Lazada\", \"count\" : 16,\"label\" : 1},\n",
    "\t{\"id\": \"Ling's Cars\", \"count\" : 15,\"label\" : 0},\n",
    "\t{\"id\": \"Mednat\", \"count\" : 15,\"label\" : 0},\n",
    "\t{\"id\": \"Mercia Tourist Board\", \"count\" : 12,\"label\" : 0},\n",
    "\t{\"id\": \"Microcenter.com\", \"count\" : 18, \"label\" : 0},\n",
    "\t{\"id\": \"Next Chapter\", \"count\" : 15,\"label\" : 1},\n",
    "\t{\"id\": \"Nordstrom\", \"count\" : 16,\"label\" : 0},\n",
    "\t{\"id\": \"Opensky\", \"count\" : 15,\"label\" : 0},\n",
    "\t{\"id\": \"P & M Computers\", \"count\" : 15,\"label\" : 0},\n",
    "\t{\"id\": \"Paradise With A View\", \"count\" : 15,\"label\" : 0},\n",
    "\t{\"id\": \"Pennyjuice\", \"count\" : 12,\"label\" : 0},\n",
    "\t{\"id\": \"Rakuten\", \"count\" : 19,\"label\" : 0},\n",
    "\t{\"id\": \"RalphLauren.com\", \"count\" : 19,\"label\" : 0},\n",
    "\t{\"id\": \"Renogy\", \"count\" : 16,\"label\" : 1},\n",
    "\t{\"id\": \"Rusty Surfboards\", \"count\" : 15,\"label\" : 1},\n",
    "\t{\"id\": \"Shopee\", \"count\" : 16,\"label\" : 1},\n",
    "\t{\"id\": \"Shopify\", \"count\" : 15,\"label\" : 1},\n",
    "\t{\"id\": \"Signal Boosters\", \"count\" : 15,\"label\" : 1},\n",
    "\t{\"id\": \"Skullcandy\", \"count\" : 16,\"label\" : 1},\n",
    "\t{\"id\": \"SnapDeal\", \"count\" : 15,\"label\" : 1},\n",
    "\t{\"id\": \"Suzanne Collins Books\", \"count\" : 15,\"label\" : 0},\n",
    "\t{\"id\": \"The Mountain\", \"count\" : 18,\"label\" : 1},\n",
    "\t{\"id\": \"True Links Wear\", \"count\" : 16,\"label\" : 1},\n",
    "\t{\"id\": \"Urban Outfitters\", \"count\" : 15,\"label\" : 0},\n",
    "\t{\"id\": \"Walgreens\", \"count\" : 16,\"label\" : 0},\n",
    "\t{\"id\": \"Walmart\", \"count\" : 15,\"label\" : 1},\n",
    "\t{\"id\": \"Water Equipment\", \"count\" : 18,\"label\" : 0},\n",
    "\t{\"id\": \"Woocommerce\", \"count\" : 15,\"label\" : 1},\n",
    "\t{\"id\": \"Zalora\", \"count\" : 16,\"label\" : 1}   \n",
    "]"
   ]
  },
  {
   "cell_type": "code",
   "execution_count": null,
   "metadata": {
    "scrolled": true
   },
   "outputs": [],
   "source": [
    "folds = [[] for i in range(5)]\n",
    "good = [x for x in sites if x[\"label\"] == 1]\n",
    "bad = [x for x in sites if x[\"label\"] == 0]\n",
    "shuffle(good)\n",
    "shuffle(bad)\n",
    "for i in range(30):\n",
    "    folds[i//6].append(good[i])\n",
    "    folds[i//6].append(bad[i])\n",
    "\n",
    "for i in range(5):\n",
    "    print(\"Fold\",i);\n",
    "    for j in folds[i]:\n",
    "        print(j[\"id\"],j[\"count\"],j[\"label\"])\n",
    "    print()"
   ]
  },
  {
   "cell_type": "code",
   "execution_count": null,
   "metadata": {},
   "outputs": [],
   "source": [
    "# data = [[] for i in range(5)]\n",
    "# labels = [[] for i in range(5)]\n",
    "# sum = 0\n",
    "# for i in range(0,5):\n",
    "#     for site in folds[i]:\n",
    "#         sum += site[\"count\"]\n",
    "#         for j in range(1,site['count'] + 1):\n",
    "# #         for i in range(1,2):\n",
    "#             labels[i] = labels[i] + [site[\"label\"]]\n",
    "#             temp = PIL.Image.open(\"%s/%s - %02d.png\" % (site['id'],site['id'],j))\n",
    "#             temp = np.array(temp);\n",
    "#             temp = resize(temp, (temp.shape[0] // 2, temp.shape[1] // 2), anti_aliasing=True)\n",
    "#             data[i].append(temp)\n",
    "#             print(\"Loading %s/%s - %02d.png\" % (site['id'],site['id'],j))\n",
    "# print(\"Loaded %d screens.\" % sum)\n",
    "# print(labels)"
   ]
  },
  {
   "cell_type": "code",
   "execution_count": 3,
   "metadata": {},
   "outputs": [],
   "source": [
    "import pickle"
   ]
  },
  {
   "cell_type": "code",
   "execution_count": null,
   "metadata": {},
   "outputs": [],
   "source": [
    "# with open('data.pt', 'wb') as f:\n",
    "#     pickle.dump(data, f)\n",
    "    \n",
    "# with open('labels.pt', 'wb') as f:\n",
    "#     pickle.dump(labels, f)"
   ]
  },
  {
   "cell_type": "code",
   "execution_count": 4,
   "metadata": {},
   "outputs": [],
   "source": [
    "with open('data.pt', 'rb') as f:\n",
    "    data = pickle.load(f)\n",
    "    \n",
    "with open('labels.pt', 'rb') as f:\n",
    "    labels = pickle.load(f)"
   ]
  },
  {
   "cell_type": "code",
   "execution_count": 5,
   "metadata": {},
   "outputs": [],
   "source": [
    "class MLP(nn.Module):\n",
    "    def __init__(self, hidden_dim, dropout=0.5):\n",
    "        super(MLP, self).__init__()\n",
    "        self.dropout = nn.Dropout(dropout)\n",
    "        self.fc1 = nn.Linear(786816, hidden_dim)\n",
    "        self.fc2 = nn.Linear(hidden_dim, hidden_dim)\n",
    "        self.fc3 = nn.Linear(hidden_dim, hidden_dim)\n",
    "        self.fc4 = nn.Linear(hidden_dim, 2)\n",
    "    \n",
    "    def forward(self, X):\n",
    "        out = X.view(X.size(0), -1)\n",
    "        out = self.dropout(torch.relu(self.fc1(out)))\n",
    "        out = self.dropout(torch.relu(self.fc2(out)))\n",
    "        out = self.dropout(torch.relu(self.fc3(out)))\n",
    "        out = torch.log_softmax(self.fc4(out), 1)\n",
    "        return out"
   ]
  },
  {
   "cell_type": "code",
   "execution_count": 6,
   "metadata": {},
   "outputs": [],
   "source": [
    "class AutoUXDataset(Dataset):\n",
    "    def __init__(self, data, labels,isTrain=True):\n",
    "        self.data = data\n",
    "        self.labels = labels\n",
    "        self.isTrain = isTrain\n",
    "        self.setTest(0)\n",
    "\n",
    "    def __len__(self):\n",
    "        if self.isTrain:\n",
    "            return len(self.trainX)\n",
    "        else:\n",
    "            return len(self.testX)\n",
    "\n",
    "    def setTest(self,testI):\n",
    "        d = []\n",
    "        l = []\n",
    "        for i in range(5):\n",
    "            if i != testI:\n",
    "                d = d + data[i];\n",
    "                l = l + labels[i]\n",
    "            else:\n",
    "                self.testX = torch.from_numpy(np.asarray(data[i],dtype=np.uint8)).type('torch.FloatTensor')\n",
    "                self.testY = torch.from_numpy(np.asarray(labels[i],dtype=np.uint8)).type('torch.LongTensor')\n",
    "                \n",
    "        self.trainX = torch.from_numpy(np.asarray(d,dtype=np.uint8)).type('torch.FloatTensor')\n",
    "        self.trainY = torch.from_numpy(np.asarray(l,dtype=np.uint8)).type('torch.LongTensor')\n",
    "    \n",
    "    def __getitem__(self, idx):\n",
    "        if self.isTrain:\n",
    "            return {\"img\" : self.trainX[idx], \"label\": self.trainY[idx]}\n",
    "        else:\n",
    "            return {\"img\" : self.testX[idx], \"label\": self.testY[idx]}"
   ]
  },
  {
   "cell_type": "code",
   "execution_count": 7,
   "metadata": {},
   "outputs": [],
   "source": [
    "def train_batch(model,crit,opt,x, y):\n",
    "    opt.zero_grad()\n",
    "    y_pred = model(x)\n",
    "    loss = crit(y_pred, y)\n",
    "    loss.backward()\n",
    "    opt.step() \n",
    "    return loss.item(),torch.sum(torch.max(y_pred, 1)[1] == y).item() / len(y)"
   ]
  },
  {
   "cell_type": "code",
   "execution_count": 8,
   "metadata": {},
   "outputs": [],
   "source": [
    "def train(model,crit,opt,dataload,disable=False):\n",
    "    # Training loop\n",
    "    dloss, dacc = 0,0\n",
    "    for s in tqdm(dataload,disable=disable):\n",
    "        x, y = s.values()\n",
    "        x = x.cuda()\n",
    "        y = y.cuda()\n",
    "        lo, acc = train_batch(model,crit,opt,x,y)\n",
    "        dloss += lo\n",
    "        dacc += acc\n",
    "    dloss /= len(dataload)\n",
    "    dacc /= len(dataload)\n",
    "    return dloss,dacc"
   ]
  },
  {
   "cell_type": "code",
   "execution_count": 9,
   "metadata": {},
   "outputs": [],
   "source": [
    "def test_batch(model,crit,x, y):\n",
    "    y_pred = model(x)\n",
    "    loss = crit(y_pred, y)\n",
    "    return loss.item(),torch.sum(torch.max(y_pred, 1)[1] == y).item() / len(y)"
   ]
  },
  {
   "cell_type": "code",
   "execution_count": 10,
   "metadata": {},
   "outputs": [],
   "source": [
    "def test(model,crit,dataload,disable=False):\n",
    "    # Training loop\n",
    "    dloss, dacc = 0,0\n",
    "    with torch.no_grad():\n",
    "        for s in tqdm(dataload,disable=disable):\n",
    "            x, y = s.values()\n",
    "            x = x.cuda()\n",
    "            y = y.cuda()\n",
    "            lo, acc = test_batch(model,crit,x,y)\n",
    "            dloss += lo\n",
    "            dacc += acc\n",
    "    dloss /= len(dataload)\n",
    "    dacc /= len(dataload)\n",
    "    return dloss,dacc"
   ]
  },
  {
   "cell_type": "code",
   "execution_count": 11,
   "metadata": {},
   "outputs": [
    {
     "name": "stdout",
     "output_type": "stream",
     "text": [
      "Fold 1\n",
      "Epoch Train Loss: 8.943521  Epoch Train Accuracy: 51.014254  Epoch Test Loss: 5.522387  Epoch Test Accuracy: 53.170290\n",
      "Epoch Train Loss: 1.414109  Epoch Train Accuracy: 51.535088  Epoch Test Loss: 1.663081  Epoch Test Accuracy: 48.709239\n",
      "Epoch Train Loss: 0.954203  Epoch Train Accuracy: 51.151316  Epoch Test Loss: 0.990739  Epoch Test Accuracy: 44.542572\n",
      "Epoch Train Loss: 0.740998  Epoch Train Accuracy: 48.547149  Epoch Test Loss: 0.745232  Epoch Test Accuracy: 53.804348\n",
      "Epoch Train Loss: 0.700375  Epoch Train Accuracy: 50.239857  Epoch Test Loss: 0.761480  Epoch Test Accuracy: 46.195652\n",
      "Epoch Train Loss: 0.702872  Epoch Train Accuracy: 50.849781  Epoch Test Loss: 0.707995  Epoch Test Accuracy: 54.098732\n",
      "Epoch Train Loss: 0.695447  Epoch Train Accuracy: 50.322094  Epoch Test Loss: 0.691107  Epoch Test Accuracy: 53.691123\n",
      "Epoch Train Loss: 0.699684  Epoch Train Accuracy: 51.021107  Epoch Test Loss: 0.684111  Epoch Test Accuracy: 60.144928\n",
      "Epoch Train Loss: 0.693566  Epoch Train Accuracy: 52.672697  Epoch Test Loss: 0.686272  Epoch Test Accuracy: 59.737319\n",
      "Epoch Train Loss: 0.694063  Epoch Train Accuracy: 53.145559  Epoch Test Loss: 0.689176  Epoch Test Accuracy: 58.469203\n",
      "Fold 2\n",
      "Epoch Train Loss: 10.078841  Epoch Train Accuracy: 49.671053  Epoch Test Loss: 7.141086  Epoch Test Accuracy: 51.313406\n",
      "Epoch Train Loss: 1.445949  Epoch Train Accuracy: 46.326754  Epoch Test Loss: 1.180181  Epoch Test Accuracy: 53.894928\n",
      "Epoch Train Loss: 1.051646  Epoch Train Accuracy: 49.533991  Epoch Test Loss: 0.854080  Epoch Test Accuracy: 56.295290\n",
      "Epoch Train Loss: 0.763199  Epoch Train Accuracy: 51.192434  Epoch Test Loss: 0.848210  Epoch Test Accuracy: 46.942935\n",
      "Epoch Train Loss: 0.717901  Epoch Train Accuracy: 48.197643  Epoch Test Loss: 0.678989  Epoch Test Accuracy: 58.695652\n",
      "Epoch Train Loss: 0.698082  Epoch Train Accuracy: 53.412829  Epoch Test Loss: 0.688968  Epoch Test Accuracy: 58.174819\n",
      "Epoch Train Loss: 0.691592  Epoch Train Accuracy: 51.281524  Epoch Test Loss: 0.716230  Epoch Test Accuracy: 50.362319\n",
      "Epoch Train Loss: 0.694089  Epoch Train Accuracy: 51.281524  Epoch Test Loss: 0.699011  Epoch Test Accuracy: 53.283514\n",
      "Epoch Train Loss: 0.690955  Epoch Train Accuracy: 54.886239  Epoch Test Loss: 0.690759  Epoch Test Accuracy: 55.253623\n",
      "Epoch Train Loss: 0.692114  Epoch Train Accuracy: 55.187774  Epoch Test Loss: 0.687778  Epoch Test Accuracy: 54.642210\n",
      "Fold 3\n",
      "Epoch Train Loss: 9.257233  Epoch Train Accuracy: 49.348958  Epoch Test Loss: 5.455224  Epoch Test Accuracy: 53.333333\n",
      "Epoch Train Loss: 1.321328  Epoch Train Accuracy: 50.520833  Epoch Test Loss: 1.286642  Epoch Test Accuracy: 50.104167\n",
      "Epoch Train Loss: 0.950566  Epoch Train Accuracy: 47.352431  Epoch Test Loss: 0.877503  Epoch Test Accuracy: 52.673611\n",
      "Epoch Train Loss: 0.777995  Epoch Train Accuracy: 48.697917  Epoch Test Loss: 0.776368  Epoch Test Accuracy: 51.979167\n",
      "Epoch Train Loss: 0.707934  Epoch Train Accuracy: 50.130208  Epoch Test Loss: 0.707188  Epoch Test Accuracy: 54.826389\n",
      "Epoch Train Loss: 0.702940  Epoch Train Accuracy: 52.734375  Epoch Test Loss: 0.696229  Epoch Test Accuracy: 49.930556\n",
      "Epoch Train Loss: 0.704859  Epoch Train Accuracy: 49.088542  Epoch Test Loss: 0.679268  Epoch Test Accuracy: 60.520833\n",
      "Epoch Train Loss: 0.692398  Epoch Train Accuracy: 53.385417  Epoch Test Loss: 0.677664  Epoch Test Accuracy: 60.625000\n",
      "Epoch Train Loss: 0.698483  Epoch Train Accuracy: 52.690972  Epoch Test Loss: 0.689143  Epoch Test Accuracy: 57.430556\n",
      "Epoch Train Loss: 0.694775  Epoch Train Accuracy: 50.868056  Epoch Test Loss: 0.682837  Epoch Test Accuracy: 53.715278\n",
      "Fold 4\n",
      "Epoch Train Loss: 11.772954  Epoch Train Accuracy: 50.347222  Epoch Test Loss: 7.561885  Epoch Test Accuracy: 51.597222\n",
      "Epoch Train Loss: 1.615423  Epoch Train Accuracy: 46.875000  Epoch Test Loss: 1.650996  Epoch Test Accuracy: 53.472222\n",
      "Epoch Train Loss: 0.957092  Epoch Train Accuracy: 49.175347  Epoch Test Loss: 0.906390  Epoch Test Accuracy: 57.847222\n",
      "Epoch Train Loss: 0.784336  Epoch Train Accuracy: 47.786458  Epoch Test Loss: 0.751122  Epoch Test Accuracy: 49.479167\n",
      "Epoch Train Loss: 0.747808  Epoch Train Accuracy: 51.258681  Epoch Test Loss: 0.795377  Epoch Test Accuracy: 51.076389\n",
      "Epoch Train Loss: 0.696553  Epoch Train Accuracy: 54.253472  Epoch Test Loss: 0.750512  Epoch Test Accuracy: 47.465278\n",
      "Epoch Train Loss: 0.701602  Epoch Train Accuracy: 51.909722  Epoch Test Loss: 0.696236  Epoch Test Accuracy: 50.486111\n",
      "Epoch Train Loss: 0.690928  Epoch Train Accuracy: 57.595486  Epoch Test Loss: 0.696947  Epoch Test Accuracy: 50.000000\n",
      "Epoch Train Loss: 0.689086  Epoch Train Accuracy: 54.340278  Epoch Test Loss: 0.712273  Epoch Test Accuracy: 43.194444\n",
      "Epoch Train Loss: 0.691835  Epoch Train Accuracy: 55.946181  Epoch Test Loss: 0.690469  Epoch Test Accuracy: 52.534722\n",
      "Fold 5\n",
      "Epoch Train Loss: 10.142817  Epoch Train Accuracy: 48.020833  Epoch Test Loss: 6.204312  Epoch Test Accuracy: 48.958333\n",
      "Epoch Train Loss: 1.702982  Epoch Train Accuracy: 55.833333  Epoch Test Loss: 2.181120  Epoch Test Accuracy: 43.750000\n",
      "Epoch Train Loss: 0.860480  Epoch Train Accuracy: 53.411458  Epoch Test Loss: 0.827093  Epoch Test Accuracy: 45.312500\n",
      "Epoch Train Loss: 0.791968  Epoch Train Accuracy: 52.213542  Epoch Test Loss: 0.832093  Epoch Test Accuracy: 46.354167\n",
      "Epoch Train Loss: 0.724444  Epoch Train Accuracy: 55.104167  Epoch Test Loss: 0.731984  Epoch Test Accuracy: 46.354167\n",
      "Epoch Train Loss: 0.683664  Epoch Train Accuracy: 54.401042  Epoch Test Loss: 0.753509  Epoch Test Accuracy: 43.750000\n",
      "Epoch Train Loss: 0.692024  Epoch Train Accuracy: 56.614583  Epoch Test Loss: 0.717615  Epoch Test Accuracy: 41.666667\n",
      "Epoch Train Loss: 0.685554  Epoch Train Accuracy: 56.250000  Epoch Test Loss: 0.710247  Epoch Test Accuracy: 48.958333\n",
      "Epoch Train Loss: 0.681772  Epoch Train Accuracy: 58.984375  Epoch Test Loss: 0.715524  Epoch Test Accuracy: 44.270833\n",
      "Epoch Train Loss: 0.683825  Epoch Train Accuracy: 56.979167  Epoch Test Loss: 0.720771  Epoch Test Accuracy: 41.145833\n",
      "Average Train Loss: 0.688948\n",
      "Average Train Accuracy: 0.533645\n",
      "Average Test Loss: 0.695786\n",
      "Average Test Accuracy: 0.550214\n",
      "\n"
     ]
    },
    {
     "data": {
      "image/png": "[encoded data removed]",
      "text/plain": [
       "<Figure size 432x288 with 1 Axes>"
      ]
     },
     "metadata": {
      "needs_background": "light"
     },
     "output_type": "display_data"
    },
    {
     "data": {
      "image/png": "[encoded data removed]",
      "text/plain": [
       "<Figure size 432x288 with 1 Axes>"
      ]
     },
     "metadata": {
      "needs_background": "light"
     },
     "output_type": "display_data"
    },
    {
     "data": {
      "image/png": "[encoded data removed]",
      "text/plain": [
       "<Figure size 432x288 with 1 Axes>"
      ]
     },
     "metadata": {
      "needs_background": "light"
     },
     "output_type": "display_data"
    },
    {
     "data": {
      "image/png": "[encoded data removed]",
      "text/plain": [
       "<Figure size 432x288 with 1 Axes>"
      ]
     },
     "metadata": {
      "needs_background": "light"
     },
     "output_type": "display_data"
    },
    {
     "data": {
      "image/png": "[encoded data removed]",
      "text/plain": [
       "<Figure size 432x288 with 1 Axes>"
      ]
     },
     "metadata": {
      "needs_background": "light"
     },
     "output_type": "display_data"
    }
   ],
   "source": [
    "avedloss, avedacc, avevloss, avevacc = 0,0,0,0\n",
    "my_data = AutoUXDataset(data,labels,True)\n",
    "my_test = AutoUXDataset(data,labels,False)\n",
    "\n",
    "batch_size = 32\n",
    "disable = True\n",
    "epochs = 100\n",
    "\n",
    "for i in range(5):\n",
    "    model = MLP(hidden_dim=256, dropout=0.5).cuda()\n",
    "    optimizer = optim.Adam(model.parameters(), lr=3e-4, weight_decay=0.1)\n",
    "    #amp_handle.wrap_optimizer(optimizer)\n",
    "    criterion = nn.CrossEntropyLoss()\n",
    "    #amp_handle = amp.init()\n",
    "    dlosscurve = []\n",
    "    dacccurve = []\n",
    "    vlosscurve = []\n",
    "    vacccurve = []\n",
    "    print(\"Fold %d\" % (i + 1))\n",
    "    my_data.setTest(i)\n",
    "    my_test.setTest(i)\n",
    "    \n",
    "    my_loader = DataLoader(my_data, batch_size=batch_size,\n",
    "                            shuffle=True)\n",
    "    my_test_loader = DataLoader(my_test, batch_size=batch_size,\n",
    "                            shuffle=True)\n",
    "    for j in range(epochs):\n",
    "        dloss, dacc = train(model,criterion,optimizer,my_loader,disable)\n",
    "        vloss, vacc = test(model,criterion,my_test_loader,disable)\n",
    "        dlosscurve.append(dloss)\n",
    "        dacccurve.append(dacc)\n",
    "        vlosscurve.append(vloss)\n",
    "        vacccurve.append(vacc)\n",
    "        if j % 10 == 0:\n",
    "            print(\"Epoch Train Loss: {:.6f}  Epoch Train Accuracy: {:.6f}  Epoch Test Loss: {:.6f}  Epoch Test Accuracy: {:.6f}\".format(dloss,dacc * 100,vloss,vacc * 100))\n",
    "    df = pd.DataFrame(data={\"train_loss\": dlosscurve, \"val_loss\": vlosscurve})\n",
    "    df.plot.line()\n",
    "    avedloss += dloss\n",
    "    avedacc += dacc\n",
    "    avevloss += vloss\n",
    "    avevacc += vacc\n",
    "avedloss /= 5\n",
    "avedacc /= 5\n",
    "avevloss /= 5\n",
    "avevacc /= 5\n",
    "print(\"Average Train Loss: {:.6f}\\nAverage Train Accuracy: {:.6f}\\nAverage Test Loss: {:.6f}\\nAverage Test Accuracy: {:.6f}\\n\".format(avedloss,avedacc,avevloss,avevacc))"
   ]
  },
  {
   "cell_type": "code",
   "execution_count": null,
   "metadata": {},
   "outputs": [],
   "source": []
  }
 ],
 "metadata": {
  "kernelspec": {
   "display_name": "Python 3",
   "language": "python",
   "name": "python3"
  },
  "language_info": {
   "codemirror_mode": {
    "name": "ipython",
    "version": 3
   },
   "file_extension": ".py",
   "mimetype": "text/x-python",
   "name": "python",
   "nbconvert_exporter": "python",
   "pygments_lexer": "ipython3",
   "version": "3.7.1"
  }
 },
 "nbformat": 4,
 "nbformat_minor": 2
}
