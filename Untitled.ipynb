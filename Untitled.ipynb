{
 "cells": [
  {
   "cell_type": "code",
   "execution_count": 6,
   "metadata": {},
   "outputs": [
    {
     "name": "stdout",
     "output_type": "stream",
     "text": [
      "[[ 1  1  1  1]\n",
      " [ 8  4  2  1]\n",
      " [27  9  3  1]\n",
      " [64 16  4  1]]\n",
      "[[ 1.00000000e+00  8.88178420e-16  0.00000000e+00  0.00000000e+00]\n",
      " [ 0.00000000e+00  1.00000000e+00  0.00000000e+00 -4.44089210e-16]\n",
      " [-8.88178420e-16 -8.88178420e-16  1.00000000e+00 -4.44089210e-16]\n",
      " [ 8.88178420e-16 -8.88178420e-16 -1.77635684e-15  1.00000000e+00]]\n",
      "[  570. -3280.  5870. -3155.]\n"
     ]
    }
   ],
   "source": [
    "import numpy as np\n",
    "\n",
    "v = np.array([[i ** (3-j) for j in range(4)] for i in range(1,5)])\n",
    "print(v)\n",
    "revV = np.linalg.inv(v)\n",
    "print(v.dot(revV))\n",
    "y = np.array([5,25,325,4325])\n",
    "z = revV.dot(y)\n",
    "print(z)"
   ]
  },
  {
   "cell_type": "code",
   "execution_count": 12,
   "metadata": {},
   "outputs": [],
   "source": [
    "def f(x):\n",
    "    ans = 0\n",
    "    for i in range(4):\n",
    "        ans += x ** (3 - i) * z[i]\n",
    "    return int(np.round(ans))"
   ]
  },
  {
   "cell_type": "code",
   "execution_count": 13,
   "metadata": {},
   "outputs": [
    {
     "name": "stdout",
     "output_type": "stream",
     "text": [
      "f(0) = -3155\n",
      "f(1) = 5\n",
      "f(2) = 25\n",
      "f(3) = 325\n",
      "f(4) = 4325\n",
      "f(5) = 15445\n"
     ]
    }
   ],
   "source": [
    "for i in range(6):\n",
    "    print(\"f({}) = {}\".format(i,f(i)))"
   ]
  },
  {
   "cell_type": "code",
   "execution_count": null,
   "metadata": {},
   "outputs": [],
   "source": []
  }
 ],
 "metadata": {
  "kernelspec": {
   "display_name": "Python 3",
   "language": "python",
   "name": "python3"
  },
  "language_info": {
   "codemirror_mode": {
    "name": "ipython",
    "version": 3
   },
   "file_extension": ".py",
   "mimetype": "text/x-python",
   "name": "python",
   "nbconvert_exporter": "python",
   "pygments_lexer": "ipython3",
   "version": "3.7.1"
  }
 },
 "nbformat": 4,
 "nbformat_minor": 2
}
