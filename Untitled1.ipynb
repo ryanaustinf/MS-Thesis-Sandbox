{
 "cells": [
  {
   "cell_type": "code",
   "execution_count": 2,
   "metadata": {},
   "outputs": [],
   "source": [
    "import random\n",
    "san_kain = [\n",
    "    \"Zark's\",\n",
    "    \"Burger King\",\n",
    "    \"Army/Navy\",\n",
    "    \"Ichiro\",\n",
    "    \"Eduardo's\",\n",
    "    \"Dominos\"\n",
    "]"
   ]
  },
  {
   "cell_type": "code",
   "execution_count": 8,
   "metadata": {},
   "outputs": [
    {
     "name": "stdout",
     "output_type": "stream",
     "text": [
      "LOL EAT AT Dominos\n"
     ]
    }
   ],
   "source": [
    "random.shuffle(san_kain)\n",
    "print(\"LOL EAT AT {}\".format(san_kain[0]))"
   ]
  },
  {
   "cell_type": "code",
   "execution_count": 1,
   "metadata": {},
   "outputs": [
    {
     "name": "stdout",
     "output_type": "stream",
     "text": [
      "E[x] = 8000.0\n",
      "Sigma[x] = 2000.0\n"
     ]
    }
   ],
   "source": [
    "import math\n",
    "\n",
    "vals = [2,3,4,5,6]\n",
    "freq = {}\n",
    "\n",
    "for i in vals:\n",
    "    for j in vals:\n",
    "        if (i + j) * 1000 in freq:\n",
    "            freq[(i + j) * 1000] = freq[(i + j) * 1000] + 1\n",
    "        else:\n",
    "            freq[(i + j) * 1000] = 1\n",
    "\n",
    "mu = 0\n",
    "std = 0\n",
    "total = 0\n",
    "for k, v in freq.items():\n",
    "    mu += k * v\n",
    "    std += k * k * v\n",
    "    total += v\n",
    "mu /= total\n",
    "std = math.sqrt(std / total - mu * mu)\n",
    "print(\"E[x] = {}\\nSigma[x] = {}\".format(mu,std))"
   ]
  },
  {
   "cell_type": "code",
   "execution_count": 2,
   "metadata": {},
   "outputs": [
    {
     "name": "stdout",
     "output_type": "stream",
     "text": [
      "E[x] = 1.6530612244897958\n",
      "Sigma[x] = 0.843365957997301\n"
     ]
    }
   ],
   "source": [
    "def comb(n,r):\n",
    "    if n < r: return 0\n",
    "    else:\n",
    "        ret = 1\n",
    "        for i in range(r):\n",
    "            ret = ret * (n - i) // (i + 1)\n",
    "        return ret\n",
    "\n",
    "def hgd(x,N,n,k):\n",
    "    return comb(k,x) * comb(N-k,n-x) / comb(N,n)\n",
    "\n",
    "mu = 0\n",
    "std = 0\n",
    "deck_count = 50\n",
    "targs = 27\n",
    "take = 3\n",
    "for i in range(take + 1):\n",
    "    p = hgd(i,deck_count - 1,take,targs)\n",
    "    mu += i * p\n",
    "    std += i * i * p\n",
    "std = math.sqrt(std - mu * mu)\n",
    "print(\"E[x] = {}\\nSigma[x] = {}\".format(mu,std))"
   ]
  },
  {
   "cell_type": "code",
   "execution_count": 21,
   "metadata": {},
   "outputs": [
    {
     "name": "stdout",
     "output_type": "stream",
     "text": [
      "For power 0, bet with range of 19.\n",
      "For power 1, bet with range of 10.\n",
      "For power 2, bet with range of 7.\n",
      "For power 3, bet with range of 5.\n",
      "For power 4, bet with range of 4.\n",
      "For power 5, bet with range of 3.\n",
      "For power 6, bet with range of 3.\n",
      "For power 7, bet with range of 3.\n",
      "For power 8, bet with range of 2.\n",
      "For power 9, bet with range of 2.\n",
      "For power 10, bet with range of 2.\n",
      "For power 11, bet with range of 2.\n",
      "For power 12, bet with range of 2.\n",
      "For power 13, bet with range of 1.\n",
      "For power 14, bet with range of 1.\n",
      "For power 15, bet with range of 1.\n"
     ]
    }
   ],
   "source": [
    "def expected(r_size,possible_vals,power):\n",
    "    return (possible_vals - r_size) ** power * r_size / possible_vals\n",
    "\n",
    "max_p = -1\n",
    "max_i = -1\n",
    "for power in range(0,16):\n",
    "    for i in range(1,20):\n",
    "        p = expected(i,20,power)\n",
    "#         print(\"Expected points for range of size {} is {}\".format(i,p))\n",
    "        if max_p < p:\n",
    "            max_p = p\n",
    "            max_i = i\n",
    "    print(\"For power {}, bet with range of {}.\".format(power,max_i))"
   ]
  },
  {
   "cell_type": "code",
   "execution_count": 7,
   "metadata": {},
   "outputs": [
    {
     "name": "stdout",
     "output_type": "stream",
     "text": [
      "191102976\n",
      "24\n"
     ]
    }
   ],
   "source": [
    "def f(x):\n",
    "    return x ** 6\n",
    "def solve(num_millis):\n",
    "    cap = num_millis * 10 ** 5\n",
    "    lo = 0\n",
    "    hi = 1000000000\n",
    "    while lo < hi:\n",
    "        mid = lo + (hi - lo) // 2\n",
    "        if f(mid) > cap:\n",
    "            hi = mid\n",
    "        else:\n",
    "            lo = mid + 1\n",
    "    if f(lo) > cap:\n",
    "        lo -= 1\n",
    "    print(f(lo))\n",
    "    return lo\n",
    "print(solve(2000))"
   ]
  },
  {
   "cell_type": "code",
   "execution_count": 19,
   "metadata": {},
   "outputs": [
    {
     "name": "stdout",
     "output_type": "stream",
     "text": [
      "f(-0.9999999999999982) = 1.000000000000001\n"
     ]
    }
   ],
   "source": [
    "def f(a_list,b_list,x):\n",
    "    ret = 0\n",
    "    for i in range(len(a_list)):\n",
    "        ret += a_list[i] * (b_list[i] ** x)\n",
    "    return ret\n",
    "\n",
    "lo = -2000\n",
    "hi = 2000\n",
    "EPS = 1e-15\n",
    "a = [1,1]\n",
    "b = [3,3/2]\n",
    "while abs(lo - hi) > EPS:\n",
    "    mid = lo + (hi - lo) / 2\n",
    "    if f(a,b,mid) > 1 + EPS:\n",
    "        hi = mid\n",
    "    else:\n",
    "        lo = mid\n",
    "print(\"f({}) = {}\".format(lo,f(a,b,lo)))"
   ]
  },
  {
   "cell_type": "code",
   "execution_count": 7,
   "metadata": {},
   "outputs": [
    {
     "data": {
      "text/plain": [
       "[<matplotlib.lines.Line2D at 0x285a1eb2048>]"
      ]
     },
     "execution_count": 7,
     "metadata": {},
     "output_type": "execute_result"
    },
    {
     "data": {
      "image/png": "[encoded data removed]",
      "text/plain": [
       "<Figure size 432x288 with 1 Axes>"
      ]
     },
     "metadata": {
      "needs_background": "light"
     },
     "output_type": "display_data"
    }
   ],
   "source": [
    "import numpy as np\n",
    "import matplotlib.pyplot as plt\n",
    "import math\n",
    "\n",
    "def sinh(x):\n",
    "    return (math.exp(x) - math.exp(-x)) / 2\n",
    "def cosh(x):\n",
    "    return (math.exp(x) + math.exp(-x)) / 2\n",
    "def f(a,s,d):\n",
    "    return a * cosh(d / (2 * a)) - (a + s)\n",
    "x = np.array([])\n",
    "y = np.array([])\n",
    "s = 40\n",
    "d = 400\n",
    "i = 10\n",
    "while i <= 100:\n",
    "    x = np.append(x,i)\n",
    "    y = np.append(y,f(i,s,d))\n",
    "    i += 1\n",
    "plt.plot(x,y)"
   ]
  },
  {
   "cell_type": "code",
   "execution_count": 11,
   "metadata": {},
   "outputs": [
    {
     "name": "stdout",
     "output_type": "stream",
     "text": [
      "Total Participants  : 46\n",
      "Range               : 102.9500\n",
      "Max Score           : 104.6200\n",
      "Mean                : 39.0102 -> 1.0\n",
      "Median              : 38.2650 -> 1.0\n",
      "First Quartile      : 22.0800 -> 0.0\n",
      "Third Quartile      : 54.6200 -> 2.0\n",
      "Interquartile Range : 32.5400\n",
      "Standard Deviation  : 25.0654\n"
     ]
    },
    {
     "data": {
      "image/png": "[encoded data removed]",
      "text/plain": [
       "<Figure size 432x288 with 1 Axes>"
      ]
     },
     "metadata": {
      "needs_background": "light"
     },
     "output_type": "display_data"
    }
   ],
   "source": [
    "import numpy as np\n",
    "import matplotlib.pyplot as plt\n",
    "\n",
    "scores = np.array([\n",
    "\t104.62,\n",
    "\t99.20,\n",
    "\t97.12,\n",
    "\t88.11,\n",
    "\t59.62,\n",
    "\t58.70,\n",
    "\t58.12,\n",
    "\t57.71,\n",
    "\t57.12,\n",
    "\t55.87,\n",
    "\t55.24,\n",
    "\t54.62,\n",
    "\t54.62,\n",
    "\t54.62,\n",
    "\t53.23,\n",
    "\t51.54,\n",
    "\t51.54,\n",
    "\t42.96,\n",
    "\t40.77,\n",
    "\t40.00,\n",
    "\t39.86,\n",
    "\t39.04,\n",
    "\t38.68,\n",
    "\t37.85,\n",
    "\t35.48,\n",
    "\t32.83,\n",
    "\t29.21,\n",
    "\t24.48,\n",
    "\t23.85,\n",
    "\t23.33,\n",
    "\t23.23,\n",
    "\t23.23,\n",
    "\t23.23,\n",
    "\t23.23,\n",
    "\t22.08,\n",
    "\t20.00,\n",
    "\t20.00,\n",
    "\t20.00,\n",
    "\t18.85,\n",
    "\t17.70,\n",
    "\t8.39,\n",
    "\t3.23,\n",
    "\t3.23,\n",
    "\t3.23,\n",
    "\t3.23,\n",
    "\t1.67\n",
    "])\n",
    "\n",
    "print(\"Total Participants  : {}\".format(len(scores)))\n",
    "print(\"Range               : {:.4f}\".format(scores[0] - scores[-1]))\n",
    "print(\"Max Score           : {:.4f}\".format(scores[0]))\n",
    "# print(\"Min Score           : {:.4f}\".format(scores[-1]))\n",
    "print(\"Mean                : {:.4f} -> 1.0\".format(np.mean(scores)))\n",
    "print(\"Median              : {:.4f} -> 1.0\".format((scores[22] + scores[23]) / 2))\n",
    "print(\"First Quartile      : {:.4f} -> 0.0\".format(scores[34]))\n",
    "print(\"Third Quartile      : {:.4f} -> 2.0\".format(scores[11]))\n",
    "print(\"Interquartile Range : {:.4f}\".format(scores[11] - scores[34]))\n",
    "print(\"Standard Deviation  : {:.4f}\".format(np.std(scores)))\n",
    "bins = [0,30,40,50,60,70,80,90,100,110]\n",
    "plt.hist(scores, bins, histtype='bar', rwidth=0.8)\n",
    "plt.show()"
   ]
  },
  {
   "cell_type": "code",
   "execution_count": 15,
   "metadata": {},
   "outputs": [
    {
     "name": "stdout",
     "output_type": "stream",
     "text": [
      "9.412591574207442e-11\n",
      "E[x] = 0.5941176470588226\n",
      "Var[x] = 0.09473430548690154\n",
      "Sigma[x] = 0.30778938494837915\n",
      "MAP = 0.59375 -> 4.699325495250644\n"
     ]
    },
    {
     "data": {
      "text/plain": [
       "[<matplotlib.lines.Line2D at 0x29254ed5cc0>]"
      ]
     },
     "execution_count": 15,
     "metadata": {},
     "output_type": "execute_result"
    },
    {
     "data": {
      "image/png": "[encoded data removed]",
      "text/plain": [
       "<Figure size 432x288 with 1 Axes>"
      ]
     },
     "metadata": {
      "needs_background": "light"
     },
     "output_type": "display_data"
    }
   ],
   "source": [
    "import matplotlib.pyplot as plt\n",
    "import numpy as np\n",
    "\n",
    "xs = np.array([])\n",
    "ys = np.array([])\n",
    "\n",
    "def f(x,norm=1,expo=0):\n",
    "    return np.power(x,expo) * np.power(x,19.2) * np.power(1 -x,12.8) / norm\n",
    "\n",
    "norm = 0\n",
    "\n",
    "for x in np.arange(0,1,0.001):\n",
    "    xs = np.append(xs,x)\n",
    "    ys = np.append(ys,f(x))\n",
    "    if x + 0.001 <= 1:\n",
    "        a = x\n",
    "        b = x + 0.001\n",
    "        norm += (b - a) / 8 * (f(a) + 3 * f((2 * a + b) / 3) + 3 * f((a + 2 * b) / 3) + f(b))\n",
    "print(norm)\n",
    "ys /= norm\n",
    "temp = 0\n",
    "mu = 0\n",
    "var = 0\n",
    "for x in np.arange(0,1,0.001):\n",
    "    if x + 0.001 <= 1:\n",
    "        a = x\n",
    "        b = x + 0.001\n",
    "        temp += (b - a) / 8 * (f(a,norm) + 3 * f((2 * a + b) / 3,norm) + 3 * f((a + 2 * b) / 3,norm) + f(b,norm))\n",
    "        mu += (b - a) / 8 * (f(a,norm,1) + 3 * f((2 * a + b) / 3,norm,1) + 3 * f((a + 2 * b) / 3,norm,1) + f(b,norm,1))\n",
    "        var += (b - a) / 8 * (f(a,norm,2) + 3 * f((2 * a + b) / 3,norm,2) + 3 * f((a + 2 * b) / 3,norm,1) + f(b,norm,2))\n",
    "var -= mu ** 2\n",
    "# print(\"area = {}\".format(temp))\n",
    "print(\"E[x] = {}\".format(mu))\n",
    "print(\"Var[x] = {}\".format(var))\n",
    "print(\"Sigma[x] = {}\".format(np.sqrt(var)))\n",
    "print(\"MAP = {} -> {}\".format(19/32,f(19/32,norm,0)))\n",
    "plt.plot(xs,ys)"
   ]
  },
  {
   "cell_type": "code",
   "execution_count": 3,
   "metadata": {},
   "outputs": [
    {
     "name": "stdout",
     "output_type": "stream",
     "text": [
      "0 1 1 1 1 1\n",
      "1 0 1 1 1 1\n",
      "1 2 0 1 1 1\n",
      "1 2 1 0 1 1\n",
      "2 2 2 2 0 1\n",
      "1 1 1 1 1 0\n"
     ]
    }
   ],
   "source": [
    "dist = [[0,1,1,1,1,1],\n",
    "             [1,0,1,1,1,1],\n",
    "             [1,int(1e9),0,1,1,1],\n",
    "             [1,int(1e9),1,0,1,1],\n",
    "             [int(1e9),int(1e9),int(1e9),int(1e9),0,1],\n",
    "             [1,1,1,1,1,0]]\n",
    "\n",
    "for k in range(6):\n",
    "    for i in range(6):\n",
    "        for j in range(6):\n",
    "            dist[i][j] = min(dist[i][j],dist[i][k] + dist[k][j])\n",
    "    if k == 5:\n",
    "        print(\"\\n\".join([\" \".join(list(map(str,r))) for r in dist]))"
   ]
  },
  {
   "cell_type": "code",
   "execution_count": null,
   "metadata": {},
   "outputs": [],
   "source": []
  }
 ],
 "metadata": {
  "kernelspec": {
   "display_name": "Python 3",
   "language": "python",
   "name": "python3"
  },
  "language_info": {
   "codemirror_mode": {
    "name": "ipython",
    "version": 3
   },
   "file_extension": ".py",
   "mimetype": "text/x-python",
   "name": "python",
   "nbconvert_exporter": "python",
   "pygments_lexer": "ipython3",
   "version": "3.7.1"
  }
 },
 "nbformat": 4,
 "nbformat_minor": 2
}
