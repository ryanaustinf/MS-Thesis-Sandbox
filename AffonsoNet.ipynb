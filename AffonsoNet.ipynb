{
 "cells": [
  {
   "cell_type": "code",
   "execution_count": 1,
   "metadata": {},
   "outputs": [],
   "source": [
    "# https://github.com/pytorch/examples/blob/master/mnist/main.py\n",
    "from __future__ import print_function\n",
    "%matplotlib inline\n",
    "import pandas as pd\n",
    "import matplotlib.pyplot as plt\n",
    "import argparse\n",
    "import torch\n",
    "import torch.nn as nn\n",
    "import torch.nn.functional as F\n",
    "import torch.optim as optim\n",
    "from torchvision import datasets, transforms\n",
    "from torch.autograd import Variable\n",
    "import numpy as np\n",
    "import PIL\n",
    "from random import shuffle\n",
    "from skimage.transform import resize\n",
    "from torch.utils.data import Dataset, DataLoader\n",
    "from tqdm import tqdm\n",
    "import random\n",
    "import pickle"
   ]
  },
  {
   "cell_type": "code",
   "execution_count": 3,
   "metadata": {},
   "outputs": [],
   "source": [
    "with open('dataconvall.pt', 'rb') as f:\n",
    "    data = pickle.load(f)\n",
    "    \n",
    "with open('labelsall.pt', 'rb') as f:\n",
    "    labels = pickle.load(f)\n",
    "    \n",
    "with open('datavalconvall.pt', 'rb') as f:\n",
    "    dataVal = pickle.load(f)\n",
    "    \n",
    "with open('labelsval.pt', 'rb') as f:\n",
    "    labelsVal = pickle.load(f)\n",
    "\n",
    "with open('imglist.pt', 'rb') as f:\n",
    "    images = pickle.load(f)"
   ]
  },
  {
   "cell_type": "code",
   "execution_count": 4,
   "metadata": {},
   "outputs": [],
   "source": [
    "class AffonsoNet(nn.Module):\n",
    "\n",
    "    def __init__(self,dropout = 0.5):\n",
    "        super(AffonsoNet, self).__init__()\n",
    "        self.conv1 = nn.Conv2d(3, 20, kernel_size=10)\n",
    "        self.conv2 = nn.Conv2d(20, 25, kernel_size=10)\n",
    "        self.fc1 = nn.Linear(14875,4096)\n",
    "        self.fc2 = nn.Linear(4096, 4096)\n",
    "        self.fc3 = nn.Linear(4096, 4)\n",
    "        self.mp = nn.MaxPool2d(2)\n",
    "        self.dropout = nn.Dropout(dropout)\n",
    "\n",
    "    def forward(self, x):\n",
    "        in_size = x.size(0)\n",
    "        x = self.mp(x)\n",
    "        x = self.mp(x)\n",
    "        x = self.dropout(torch.relu(self.conv1(x)))\n",
    "        x = self.mp(x)\n",
    "        x = self.dropout(torch.relu(self.conv2(x)))\n",
    "        x = self.mp(x)\n",
    "        x = x.view(in_size, -1)  # flatten the tensor\n",
    "        x = self.dropout(torch.relu(self.fc1(x)))\n",
    "        x = self.dropout(torch.relu(self.fc2(x)))\n",
    "        x = self.fc3(x)\n",
    "        return torch.log_softmax(x,1)\n"
   ]
  },
  {
   "cell_type": "code",
   "execution_count": null,
   "metadata": {},
   "outputs": [],
   "source": [
    "class AutoUXDataset(Dataset):\n",
    "    def __init__(self, data, labels,isTrain=True,isVal=False):\n",
    "        self.data = data\n",
    "        self.labels = labels\n",
    "        self.isTrain = isTrain\n",
    "        self.isVal = isVal\n",
    "        if isVal:\n",
    "            self.testX = torch.from_numpy(np.asarray(data,dtype=np.uint8)).type('torch.FloatTensor')\n",
    "            self.testY = torch.from_numpy(np.asarray(labels,dtype=np.uint8)).type('torch.LongTensor')\n",
    "        else:\n",
    "            self.setTest(0)\n",
    "\n",
    "    def __len__(self):\n",
    "        if self.isTrain:\n",
    "            return len(self.trainX)\n",
    "        else:\n",
    "            return len(self.testX)\n",
    "\n",
    "    def setTest(self,testI):\n",
    "        if self.isVal:\n",
    "            return\n",
    "        d = np.empty((0,3,384,683),int)\n",
    "        l = []\n",
    "        for i in range(5):\n",
    "            if i != testI:\n",
    "                d = np.append(d,data[i],axis=0)\n",
    "                l += labels[i]\n",
    "            else:\n",
    "                self.testX = torch.from_numpy(np.asarray(data[i],dtype=np.uint8)).type('torch.FloatTensor')\n",
    "                self.testY = torch.from_numpy(np.asarray(labels[i],dtype=np.uint8)).type('torch.LongTensor')\n",
    "                \n",
    "        self.trainX = torch.from_numpy(np.asarray(d,dtype=np.uint8)).type('torch.FloatTensor')\n",
    "        self.trainY = torch.from_numpy(np.asarray(l,dtype=np.uint8)).type('torch.LongTensor')\n",
    "    \n",
    "    def __getitem__(self, idx):\n",
    "        if self.isTrain:\n",
    "            return {\"img\" : self.trainX[idx], \"label\": self.trainY[idx]}\n",
    "        else:\n",
    "            return {\"img\" : self.testX[idx], \"label\": self.testY[idx]}"
   ]
  },
  {
   "cell_type": "code",
   "execution_count": 5,
   "metadata": {},
   "outputs": [],
   "source": [
    "def train_batch(model,crit,opt,x, y):\n",
    "    opt.zero_grad()\n",
    "    y_pred = model(x)\n",
    "    loss = crit(y_pred, y)\n",
    "    loss.backward()\n",
    "    opt.step() \n",
    "    return loss.item(),torch.sum(torch.max(y_pred, 1)[1] == y).item() / len(y)\n",
    "\n",
    "def train(model,crit,opt,dataload,disable=False):\n",
    "    # Training loop\n",
    "    dloss, dacc = 0,0\n",
    "    for s in tqdm(dataload,disable=disable):\n",
    "        x, y = s.values()\n",
    "        x = x.cuda()\n",
    "        y = y.cuda()\n",
    "        lo, acc = train_batch(model,crit,opt,x,y)\n",
    "        dloss += lo\n",
    "        dacc += acc\n",
    "    dloss /= len(dataload)\n",
    "    dacc /= len(dataload)\n",
    "    return dloss,dacc\n",
    "\n",
    "def test_batch(model,crit,x, y):\n",
    "    y_pred = model(x)\n",
    "    loss = crit(y_pred, y)\n",
    "    return loss.item(),torch.sum(torch.max(y_pred, 1)[1] == y).item() / len(y)\n",
    "\n",
    "def test(model,crit,dataload,disable=False):\n",
    "    # Training loop\n",
    "    dloss, dacc = 0,0\n",
    "    with torch.no_grad():\n",
    "        for s in tqdm(dataload,disable=disable):\n",
    "            x, y = s.values()\n",
    "            x = x.cuda()\n",
    "            y = y.cuda()\n",
    "            lo, acc = test_batch(model,crit,x,y)\n",
    "            dloss += lo\n",
    "            dacc += acc\n",
    "    dloss /= len(dataload)\n",
    "    dacc /= len(dataload)\n",
    "    return dloss,dacc"
   ]
  },
  {
   "cell_type": "code",
   "execution_count": null,
   "metadata": {},
   "outputs": [],
   "source": [
    "avedloss, avedacc, avevloss, avevacc = 0,0,0,0\n",
    "my_data = AutoUXDataset(data,labels,True)\n",
    "my_test = AutoUXDataset(data,labels,False)\n",
    "\n",
    "batch_size = 128\n",
    "disable = False\n",
    "epochs = 50\n",
    "dropout = 0.5\n",
    "weight_decay = 0.5\n",
    "\n",
    "for i in range(5):\n",
    "    model = AffonsoNet(dropout=dropout).cuda()\n",
    "    optimizer = optim.Adam(model.parameters(), lr=3e-4,weight_decay=weight_decay)\n",
    "    #amp_handle.wrap_optimizer(optimizer)\n",
    "    criterion = nn.CrossEntropyLoss()\n",
    "    #amp_handle = amp.init()\n",
    "    dlosscurve = []\n",
    "    dacccurve = []\n",
    "    vlosscurve = []\n",
    "    vacccurve = []\n",
    "    print(\"Fold %d\" % (i + 1))\n",
    "    my_data.setTest(i)\n",
    "    my_test.setTest(i)\n",
    "    \n",
    "    my_loader = DataLoader(my_data, batch_size=batch_size,\n",
    "                            shuffle=True)\n",
    "    my_test_loader = DataLoader(my_test, batch_size=batch_size,\n",
    "                            shuffle=True)\n",
    "    for j in range(epochs):\n",
    "        dloss, dacc = train(model,criterion,optimizer,my_loader,disable)\n",
    "        vloss, vacc = test(model,criterion,my_test_loader,disable)\n",
    "        dlosscurve.append(dloss)\n",
    "        dacccurve.append(dacc)\n",
    "        vlosscurve.append(vloss)\n",
    "        vacccurve.append(vacc)\n",
    "        if j % 1 == 0:\n",
    "            print(\"Epoch Train Loss: {:.6f}  Epoch Train Accuracy: {:.6f}  Epoch Test Loss: {:.6f}  Epoch Test Accuracy: {:.6f}\".format(dloss,dacc * 100,vloss,vacc * 100))\n",
    "    df = pd.DataFrame(data={\"train_loss\": dlosscurve, \"val_loss\": vlosscurve})\n",
    "    df.plot.line()\n",
    "    avedloss += dloss\n",
    "    avedacc += dacc\n",
    "    avevloss += vloss\n",
    "    avevacc += vacc\n",
    "avedloss /= 5\n",
    "avedacc /= 5\n",
    "avevloss /= 5\n",
    "avevacc /= 5\n",
    "print(\"Average Train Loss: {:.6f}\\nAverage Train Accuracy: {:.6f}\\nAverage Test Loss: {:.6f}\\nAverage Test Accuracy: {:.6f}\\n\".format(avedloss,avedacc,avevloss,avevacc))"
   ]
  },
  {
   "cell_type": "code",
   "execution_count": 7,
   "metadata": {},
   "outputs": [
    {
     "name": "stderr",
     "output_type": "stream",
     "text": [
      "100%|██████████████████████████████████████████████████████████████████████████████████| 15/15 [00:05<00:00,  4.89it/s]\n"
     ]
    },
    {
     "name": "stdout",
     "output_type": "stream",
     "text": [
      "Epoch Train Loss: 1.044304  Epoch Train Accuracy: 51.160714\n"
     ]
    },
    {
     "name": "stderr",
     "output_type": "stream",
     "text": [
      "100%|██████████████████████████████████████████████████████████████████████████████████| 15/15 [00:02<00:00,  5.77it/s]\n"
     ]
    },
    {
     "name": "stdout",
     "output_type": "stream",
     "text": [
      "Epoch Train Loss: 0.720452  Epoch Train Accuracy: 51.612103\n"
     ]
    },
    {
     "name": "stderr",
     "output_type": "stream",
     "text": [
      "100%|██████████████████████████████████████████████████████████████████████████████████| 15/15 [00:02<00:00,  5.77it/s]\n"
     ]
    },
    {
     "name": "stdout",
     "output_type": "stream",
     "text": [
      "Epoch Train Loss: 0.704657  Epoch Train Accuracy: 53.854167\n"
     ]
    },
    {
     "name": "stderr",
     "output_type": "stream",
     "text": [
      "100%|██████████████████████████████████████████████████████████████████████████████████| 15/15 [00:02<00:00,  5.81it/s]\n"
     ]
    },
    {
     "name": "stdout",
     "output_type": "stream",
     "text": [
      "Epoch Train Loss: 0.720874  Epoch Train Accuracy: 56.502976\n"
     ]
    },
    {
     "name": "stderr",
     "output_type": "stream",
     "text": [
      "100%|██████████████████████████████████████████████████████████████████████████████████| 15/15 [00:02<00:00,  5.60it/s]\n"
     ]
    },
    {
     "name": "stdout",
     "output_type": "stream",
     "text": [
      "Epoch Train Loss: 0.707557  Epoch Train Accuracy: 52.668651\n"
     ]
    },
    {
     "name": "stderr",
     "output_type": "stream",
     "text": [
      "100%|██████████████████████████████████████████████████████████████████████████████████| 15/15 [00:02<00:00,  5.71it/s]\n"
     ]
    },
    {
     "name": "stdout",
     "output_type": "stream",
     "text": [
      "Epoch Train Loss: 0.684279  Epoch Train Accuracy: 56.780754\n"
     ]
    },
    {
     "name": "stderr",
     "output_type": "stream",
     "text": [
      "100%|██████████████████████████████████████████████████████████████████████████████████| 15/15 [00:02<00:00,  5.76it/s]\n"
     ]
    },
    {
     "name": "stdout",
     "output_type": "stream",
     "text": [
      "Epoch Train Loss: 0.666228  Epoch Train Accuracy: 59.593254\n"
     ]
    },
    {
     "name": "stderr",
     "output_type": "stream",
     "text": [
      "100%|██████████████████████████████████████████████████████████████████████████████████| 15/15 [00:02<00:00,  6.04it/s]\n"
     ]
    },
    {
     "name": "stdout",
     "output_type": "stream",
     "text": [
      "Epoch Train Loss: 0.667575  Epoch Train Accuracy: 61.001984\n"
     ]
    },
    {
     "name": "stderr",
     "output_type": "stream",
     "text": [
      "100%|██████████████████████████████████████████████████████████████████████████████████| 15/15 [00:02<00:00,  5.68it/s]\n"
     ]
    },
    {
     "name": "stdout",
     "output_type": "stream",
     "text": [
      "Epoch Train Loss: 0.690758  Epoch Train Accuracy: 57.301587\n"
     ]
    },
    {
     "name": "stderr",
     "output_type": "stream",
     "text": [
      "100%|██████████████████████████████████████████████████████████████████████████████████| 15/15 [00:02<00:00,  5.97it/s]\n"
     ]
    },
    {
     "name": "stdout",
     "output_type": "stream",
     "text": [
      "Epoch Train Loss: 0.652751  Epoch Train Accuracy: 61.671627\n"
     ]
    },
    {
     "name": "stderr",
     "output_type": "stream",
     "text": [
      "100%|██████████████████████████████████████████████████████████████████████████████████| 15/15 [00:02<00:00,  5.85it/s]\n"
     ]
    },
    {
     "name": "stdout",
     "output_type": "stream",
     "text": [
      "Epoch Train Loss: 0.638183  Epoch Train Accuracy: 64.945437\n"
     ]
    },
    {
     "name": "stderr",
     "output_type": "stream",
     "text": [
      "100%|██████████████████████████████████████████████████████████████████████████████████| 15/15 [00:02<00:00,  5.96it/s]\n"
     ]
    },
    {
     "name": "stdout",
     "output_type": "stream",
     "text": [
      "Epoch Train Loss: 0.618043  Epoch Train Accuracy: 68.100198\n"
     ]
    },
    {
     "name": "stderr",
     "output_type": "stream",
     "text": [
      "100%|██████████████████████████████████████████████████████████████████████████████████| 15/15 [00:02<00:00,  5.88it/s]\n"
     ]
    },
    {
     "name": "stdout",
     "output_type": "stream",
     "text": [
      "Epoch Train Loss: 0.615916  Epoch Train Accuracy: 66.577381\n"
     ]
    },
    {
     "name": "stderr",
     "output_type": "stream",
     "text": [
      "100%|██████████████████████████████████████████████████████████████████████████████████| 15/15 [00:02<00:00,  5.85it/s]\n"
     ]
    },
    {
     "name": "stdout",
     "output_type": "stream",
     "text": [
      "Epoch Train Loss: 0.606126  Epoch Train Accuracy: 65.436508\n"
     ]
    },
    {
     "name": "stderr",
     "output_type": "stream",
     "text": [
      "100%|██████████████████████████████████████████████████████████████████████████████████| 15/15 [00:02<00:00,  5.77it/s]\n"
     ]
    },
    {
     "name": "stdout",
     "output_type": "stream",
     "text": [
      "Epoch Train Loss: 0.588901  Epoch Train Accuracy: 69.340278\n"
     ]
    },
    {
     "name": "stderr",
     "output_type": "stream",
     "text": [
      "100%|██████████████████████████████████████████████████████████████████████████████████| 15/15 [00:02<00:00,  5.58it/s]\n"
     ]
    },
    {
     "name": "stdout",
     "output_type": "stream",
     "text": [
      "Epoch Train Loss: 0.591148  Epoch Train Accuracy: 69.082341\n"
     ]
    },
    {
     "name": "stderr",
     "output_type": "stream",
     "text": [
      "100%|██████████████████████████████████████████████████████████████████████████████████| 15/15 [00:02<00:00,  5.86it/s]\n"
     ]
    },
    {
     "name": "stdout",
     "output_type": "stream",
     "text": [
      "Epoch Train Loss: 0.586569  Epoch Train Accuracy: 68.516865\n"
     ]
    },
    {
     "name": "stderr",
     "output_type": "stream",
     "text": [
      "100%|██████████████████████████████████████████████████████████████████████████████████| 15/15 [00:02<00:00,  5.65it/s]\n"
     ]
    },
    {
     "name": "stdout",
     "output_type": "stream",
     "text": [
      "Epoch Train Loss: 0.579265  Epoch Train Accuracy: 70.967262\n"
     ]
    },
    {
     "name": "stderr",
     "output_type": "stream",
     "text": [
      "100%|██████████████████████████████████████████████████████████████████████████████████| 15/15 [00:02<00:00,  5.45it/s]\n"
     ]
    },
    {
     "name": "stdout",
     "output_type": "stream",
     "text": [
      "Epoch Train Loss: 0.563597  Epoch Train Accuracy: 70.436508\n"
     ]
    },
    {
     "name": "stderr",
     "output_type": "stream",
     "text": [
      "100%|██████████████████████████████████████████████████████████████████████████████████| 15/15 [00:02<00:00,  5.81it/s]\n"
     ]
    },
    {
     "name": "stdout",
     "output_type": "stream",
     "text": [
      "Epoch Train Loss: 0.598980  Epoch Train Accuracy: 68.095238\n"
     ]
    },
    {
     "name": "stderr",
     "output_type": "stream",
     "text": [
      "100%|██████████████████████████████████████████████████████████████████████████████████| 15/15 [00:02<00:00,  5.84it/s]\n"
     ]
    },
    {
     "name": "stdout",
     "output_type": "stream",
     "text": [
      "Epoch Train Loss: 0.557027  Epoch Train Accuracy: 73.164683\n"
     ]
    },
    {
     "name": "stderr",
     "output_type": "stream",
     "text": [
      "100%|██████████████████████████████████████████████████████████████████████████████████| 15/15 [00:02<00:00,  5.90it/s]\n"
     ]
    },
    {
     "name": "stdout",
     "output_type": "stream",
     "text": [
      "Epoch Train Loss: 0.545382  Epoch Train Accuracy: 72.415675\n"
     ]
    },
    {
     "name": "stderr",
     "output_type": "stream",
     "text": [
      "100%|██████████████████████████████████████████████████████████████████████████████████| 15/15 [00:02<00:00,  5.89it/s]\n"
     ]
    },
    {
     "name": "stdout",
     "output_type": "stream",
     "text": [
      "Epoch Train Loss: 0.560033  Epoch Train Accuracy: 71.855159\n"
     ]
    },
    {
     "name": "stderr",
     "output_type": "stream",
     "text": [
      "100%|██████████████████████████████████████████████████████████████████████████████████| 15/15 [00:02<00:00,  5.74it/s]\n"
     ]
    },
    {
     "name": "stdout",
     "output_type": "stream",
     "text": [
      "Epoch Train Loss: 0.540845  Epoch Train Accuracy: 72.827381\n"
     ]
    },
    {
     "name": "stderr",
     "output_type": "stream",
     "text": [
      "100%|██████████████████████████████████████████████████████████████████████████████████| 15/15 [00:02<00:00,  5.80it/s]\n"
     ]
    },
    {
     "name": "stdout",
     "output_type": "stream",
     "text": [
      "Epoch Train Loss: 0.522992  Epoch Train Accuracy: 73.893849\n"
     ]
    },
    {
     "name": "stderr",
     "output_type": "stream",
     "text": [
      "100%|██████████████████████████████████████████████████████████████████████████████████| 15/15 [00:02<00:00,  5.89it/s]\n"
     ]
    },
    {
     "name": "stdout",
     "output_type": "stream",
     "text": [
      "Epoch Train Loss: 0.512535  Epoch Train Accuracy: 74.965278\n"
     ]
    },
    {
     "name": "stderr",
     "output_type": "stream",
     "text": [
      "100%|██████████████████████████████████████████████████████████████████████████████████| 15/15 [00:02<00:00,  5.52it/s]\n"
     ]
    },
    {
     "name": "stdout",
     "output_type": "stream",
     "text": [
      "Epoch Train Loss: 0.502368  Epoch Train Accuracy: 75.178571\n"
     ]
    },
    {
     "name": "stderr",
     "output_type": "stream",
     "text": [
      "100%|██████████████████████████████████████████████████████████████████████████████████| 15/15 [00:02<00:00,  5.98it/s]\n"
     ]
    },
    {
     "name": "stdout",
     "output_type": "stream",
     "text": [
      "Epoch Train Loss: 0.511887  Epoch Train Accuracy: 75.119048\n"
     ]
    },
    {
     "name": "stderr",
     "output_type": "stream",
     "text": [
      "100%|██████████████████████████████████████████████████████████████████████████████████| 15/15 [00:02<00:00,  5.85it/s]\n"
     ]
    },
    {
     "name": "stdout",
     "output_type": "stream",
     "text": [
      "Epoch Train Loss: 0.507061  Epoch Train Accuracy: 75.753968\n"
     ]
    },
    {
     "name": "stderr",
     "output_type": "stream",
     "text": [
      "100%|██████████████████████████████████████████████████████████████████████████████████| 15/15 [00:02<00:00,  5.93it/s]\n"
     ]
    },
    {
     "name": "stdout",
     "output_type": "stream",
     "text": [
      "Epoch Train Loss: 0.479902  Epoch Train Accuracy: 76.860119\n"
     ]
    },
    {
     "name": "stderr",
     "output_type": "stream",
     "text": [
      "100%|██████████████████████████████████████████████████████████████████████████████████| 15/15 [00:02<00:00,  5.68it/s]\n"
     ]
    },
    {
     "name": "stdout",
     "output_type": "stream",
     "text": [
      "Epoch Train Loss: 0.499085  Epoch Train Accuracy: 76.433532\n"
     ]
    },
    {
     "name": "stderr",
     "output_type": "stream",
     "text": [
      "100%|██████████████████████████████████████████████████████████████████████████████████| 15/15 [00:02<00:00,  5.95it/s]\n"
     ]
    },
    {
     "name": "stdout",
     "output_type": "stream",
     "text": [
      "Epoch Train Loss: 0.476147  Epoch Train Accuracy: 78.249008\n"
     ]
    },
    {
     "name": "stderr",
     "output_type": "stream",
     "text": [
      "100%|██████████████████████████████████████████████████████████████████████████████████| 15/15 [00:02<00:00,  5.97it/s]\n"
     ]
    },
    {
     "name": "stdout",
     "output_type": "stream",
     "text": [
      "Epoch Train Loss: 0.454782  Epoch Train Accuracy: 78.308532\n"
     ]
    },
    {
     "name": "stderr",
     "output_type": "stream",
     "text": [
      "100%|██████████████████████████████████████████████████████████████████████████████████| 15/15 [00:02<00:00,  5.93it/s]\n"
     ]
    },
    {
     "name": "stdout",
     "output_type": "stream",
     "text": [
      "Epoch Train Loss: 0.425712  Epoch Train Accuracy: 78.730159\n"
     ]
    },
    {
     "name": "stderr",
     "output_type": "stream",
     "text": [
      "100%|██████████████████████████████████████████████████████████████████████████████████| 15/15 [00:02<00:00,  5.81it/s]\n"
     ]
    },
    {
     "name": "stdout",
     "output_type": "stream",
     "text": [
      "Epoch Train Loss: 0.448182  Epoch Train Accuracy: 79.345238\n"
     ]
    },
    {
     "name": "stderr",
     "output_type": "stream",
     "text": [
      "100%|██████████████████████████████████████████████████████████████████████████████████| 15/15 [00:02<00:00,  6.04it/s]\n"
     ]
    },
    {
     "name": "stdout",
     "output_type": "stream",
     "text": [
      "Epoch Train Loss: 0.411843  Epoch Train Accuracy: 79.399802\n"
     ]
    },
    {
     "name": "stderr",
     "output_type": "stream",
     "text": [
      "100%|██████████████████████████████████████████████████████████████████████████████████| 15/15 [00:02<00:00,  5.86it/s]\n"
     ]
    },
    {
     "name": "stdout",
     "output_type": "stream",
     "text": [
      "Epoch Train Loss: 0.417977  Epoch Train Accuracy: 81.230159\n"
     ]
    },
    {
     "name": "stderr",
     "output_type": "stream",
     "text": [
      "100%|██████████████████████████████████████████████████████████████████████████████████| 15/15 [00:02<00:00,  6.06it/s]\n"
     ]
    },
    {
     "name": "stdout",
     "output_type": "stream",
     "text": [
      "Epoch Train Loss: 0.416978  Epoch Train Accuracy: 80.853175\n"
     ]
    },
    {
     "name": "stderr",
     "output_type": "stream",
     "text": [
      "100%|██████████████████████████████████████████████████████████████████████████████████| 15/15 [00:02<00:00,  5.96it/s]\n"
     ]
    },
    {
     "name": "stdout",
     "output_type": "stream",
     "text": [
      "Epoch Train Loss: 0.415073  Epoch Train Accuracy: 80.704365\n"
     ]
    },
    {
     "name": "stderr",
     "output_type": "stream",
     "text": [
      "100%|██████████████████████████████████████████████████████████████████████████████████| 15/15 [00:02<00:00,  5.93it/s]\n"
     ]
    },
    {
     "name": "stdout",
     "output_type": "stream",
     "text": [
      "Epoch Train Loss: 0.393354  Epoch Train Accuracy: 82.167659\n"
     ]
    },
    {
     "name": "stderr",
     "output_type": "stream",
     "text": [
      "100%|██████████████████████████████████████████████████████████████████████████████████| 15/15 [00:02<00:00,  5.96it/s]\n"
     ]
    },
    {
     "name": "stdout",
     "output_type": "stream",
     "text": [
      "Epoch Train Loss: 0.400282  Epoch Train Accuracy: 80.704365\n"
     ]
    },
    {
     "name": "stderr",
     "output_type": "stream",
     "text": [
      "100%|██████████████████████████████████████████████████████████████████████████████████| 15/15 [00:02<00:00,  5.90it/s]\n"
     ]
    },
    {
     "name": "stdout",
     "output_type": "stream",
     "text": [
      "Epoch Train Loss: 0.388755  Epoch Train Accuracy: 83.095238\n"
     ]
    },
    {
     "name": "stderr",
     "output_type": "stream",
     "text": [
      "100%|██████████████████████████████████████████████████████████████████████████████████| 15/15 [00:02<00:00,  5.88it/s]\n"
     ]
    },
    {
     "name": "stdout",
     "output_type": "stream",
     "text": [
      "Epoch Train Loss: 0.414426  Epoch Train Accuracy: 80.128968\n"
     ]
    },
    {
     "name": "stderr",
     "output_type": "stream",
     "text": [
      "100%|██████████████████████████████████████████████████████████████████████████████████| 15/15 [00:02<00:00,  5.70it/s]\n"
     ]
    },
    {
     "name": "stdout",
     "output_type": "stream",
     "text": [
      "Epoch Train Loss: 0.379205  Epoch Train Accuracy: 83.576389\n"
     ]
    },
    {
     "name": "stderr",
     "output_type": "stream",
     "text": [
      "100%|██████████████████████████████████████████████████████████████████████████████████| 15/15 [00:02<00:00,  5.76it/s]\n"
     ]
    },
    {
     "name": "stdout",
     "output_type": "stream",
     "text": [
      "Epoch Train Loss: 0.371139  Epoch Train Accuracy: 81.542659\n"
     ]
    },
    {
     "name": "stderr",
     "output_type": "stream",
     "text": [
      "100%|██████████████████████████████████████████████████████████████████████████████████| 15/15 [00:02<00:00,  5.90it/s]\n"
     ]
    },
    {
     "name": "stdout",
     "output_type": "stream",
     "text": [
      "Epoch Train Loss: 0.318760  Epoch Train Accuracy: 85.302579\n"
     ]
    },
    {
     "name": "stderr",
     "output_type": "stream",
     "text": [
      "100%|██████████████████████████████████████████████████████████████████████████████████| 15/15 [00:02<00:00,  5.79it/s]\n"
     ]
    },
    {
     "name": "stdout",
     "output_type": "stream",
     "text": [
      "Epoch Train Loss: 0.359838  Epoch Train Accuracy: 85.252976\n"
     ]
    },
    {
     "name": "stderr",
     "output_type": "stream",
     "text": [
      "100%|██████████████████████████████████████████████████████████████████████████████████| 15/15 [00:02<00:00,  5.97it/s]\n"
     ]
    },
    {
     "name": "stdout",
     "output_type": "stream",
     "text": [
      "Epoch Train Loss: 0.367218  Epoch Train Accuracy: 84.394841\n"
     ]
    },
    {
     "name": "stderr",
     "output_type": "stream",
     "text": [
      "100%|██████████████████████████████████████████████████████████████████████████████████| 15/15 [00:02<00:00,  6.00it/s]\n"
     ]
    },
    {
     "name": "stdout",
     "output_type": "stream",
     "text": [
      "Epoch Train Loss: 0.353492  Epoch Train Accuracy: 83.938492\n"
     ]
    },
    {
     "name": "stderr",
     "output_type": "stream",
     "text": [
      "100%|██████████████████████████████████████████████████████████████████████████████████| 15/15 [00:02<00:00,  6.00it/s]\n"
     ]
    },
    {
     "name": "stdout",
     "output_type": "stream",
     "text": [
      "Epoch Train Loss: 0.319679  Epoch Train Accuracy: 87.073413\n",
      "Average Train Loss: 0.319679\n",
      "Average Train Accuracy: 0.870734\n"
     ]
    },
    {
     "data": {
      "image/png": "[encoded data removed]",
      "text/plain": [
       "<Figure size 432x288 with 1 Axes>"
      ]
     },
     "metadata": {
      "needs_background": "light"
     },
     "output_type": "display_data"
    }
   ],
   "source": [
    "my_val = AutoUXDataset(dataVal,labelsVal,False,True)\n",
    "disable = False\n",
    "my_val_loader = DataLoader(my_val, batch_size=batch_size,shuffle=True)\n",
    "vloss, vacc = test(model,criterion,my_val_loader,disable)\n",
    "print(\"Validation Loss: {:.6f}\\nValidation Accuracy: {:.6f}\\n\".format(vloss,vacc))"
   ]
  },
  {
   "cell_type": "code",
   "execution_count": 8,
   "metadata": {},
   "outputs": [
    {
     "name": "stderr",
     "output_type": "stream",
     "text": [
      "100%|██████████████████████████████████████████████████████████████████████████████████| 15/15 [00:02<00:00,  7.73it/s]\n"
     ]
    },
    {
     "name": "stdout",
     "output_type": "stream",
     "text": [
      "[1.71839198e-01 5.17634127e-01 1.22479390e-01 8.78567314e-02\n",
      " 4.31184186e-02 2.00700882e-01 3.74149727e-01 7.61689838e-01\n",
      " 7.83693147e-02 1.33537283e-01 2.51179068e-01 5.85105109e-01\n",
      " 7.02020147e-02 6.11473151e-01 8.41396848e-02 2.12065079e-01\n",
      " 3.77483379e-01 1.72916498e-01 2.01270108e-01 2.43487257e-02\n",
      " 3.29804224e-02 4.78170333e-03 2.03123213e-01 1.32029081e-01\n",
      " 2.75389863e-02 1.90998179e-02 3.74909882e-02 2.41010250e-01\n",
      " 2.14200445e-02 3.32756615e-01 9.43440203e-01 1.56243298e-01\n",
      " 7.03784335e-01 8.17585883e-01 7.47308161e-01 9.77633251e-01\n",
      " 9.52521693e-01 8.79545258e-01 9.60129065e-01 2.41852579e-01\n",
      " 6.35930926e-01 9.77882685e-01 7.60386333e-01 9.89962746e-01\n",
      " 9.89736659e-01 3.61857682e-01 1.94922001e-01 9.77493876e-01\n",
      " 8.78679204e-01 1.97080829e-01 2.01812654e-01 7.50462925e-01\n",
      " 9.34793136e-01 9.74889492e-01 9.75489815e-01 6.11676995e-01\n",
      " 6.55224460e-01 4.32137047e-01 9.36418839e-01 7.81349697e-01\n",
      " 6.88399360e-01 7.02781970e-01 1.48826621e-01 5.91692836e-01\n",
      " 1.28716465e-01 1.69925223e-01 1.22324750e-01 3.39531756e-01\n",
      " 1.82073306e-01 6.86531505e-01 1.14040383e-01 6.01622524e-01\n",
      " 1.27422860e-02 6.72953787e-02 3.57468263e-01 8.19161023e-02\n",
      " 5.32820717e-02 2.75345884e-01 2.87689369e-02 1.01270450e-01\n",
      " 7.85592290e-03 4.78112780e-02 7.79880657e-03 2.12762996e-01\n",
      " 6.61320745e-02 7.34323584e-02 9.73762291e-04 3.48177688e-03\n",
      " 1.94890871e-04 1.69051558e-01 1.41568466e-02 3.63142576e-02\n",
      " 2.22946907e-02 6.69555695e-01 7.94234910e-01 9.78229667e-01\n",
      " 8.64753830e-01 9.88057496e-01 4.40790744e-01 8.25729117e-01\n",
      " 9.26296212e-01 8.51269125e-01 7.13135224e-01 8.94058336e-01\n",
      " 8.04676681e-01 9.88159268e-01 7.52125002e-01 9.86738706e-01\n",
      " 1.88335354e-01 4.32967371e-02 3.35194393e-01 8.33289605e-02\n",
      " 1.79709843e-01 8.74412550e-02 1.43989625e-01 1.84884840e-01\n",
      " 3.81206827e-02 2.54279863e-01 3.03818009e-02 2.48359601e-01\n",
      " 4.78409491e-01 1.96866986e-01 2.23695629e-01 2.37961578e-01\n",
      " 2.49643401e-01 5.61658970e-01 9.72984949e-01 5.07361915e-01\n",
      " 8.04000886e-01 3.54417189e-01 8.80811918e-01 4.05241138e-01\n",
      " 1.83946167e-01 4.18048007e-01 9.63040661e-01 8.45075530e-02\n",
      " 6.51730006e-01 4.71496907e-01 1.99725358e-01 8.46250205e-01\n",
      " 7.08812410e-01 6.77739967e-01 3.75533429e-01 9.34979921e-01\n",
      " 5.83692845e-01 4.16021056e-01 8.84951513e-01 8.39656426e-01\n",
      " 6.60651791e-01 3.52614006e-01 9.20654718e-01 9.75355396e-01\n",
      " 7.44958565e-01 9.31705673e-01 7.59411979e-01 8.10032650e-01\n",
      " 9.56263665e-01 7.32725501e-01 5.24927934e-01 3.79772533e-01\n",
      " 1.56631603e-01 8.87657565e-01 3.10155432e-01 1.22071245e-03\n",
      " 1.15962700e-02 4.33638663e-02 6.48546962e-02 1.39400207e-01\n",
      " 6.34361348e-01 2.85953672e-01 1.27647266e-01 5.17549332e-02\n",
      " 1.92209614e-02 1.85415220e-01 1.33464104e-02 2.66856439e-01\n",
      " 2.53579964e-02 9.64048703e-01 9.05810106e-01 9.24997002e-01\n",
      " 9.45875323e-01 9.48576775e-01 9.23064037e-01 8.76123755e-01\n",
      " 9.11295670e-01 6.59580164e-01 8.25180625e-01 2.39599039e-01\n",
      " 2.07985980e-01 5.62942488e-01 9.77256191e-01 7.09229948e-01\n",
      " 3.80878266e-01 8.13449297e-01 7.68224107e-01 6.70742671e-01\n",
      " 2.81646181e-01 1.85119097e-01 5.08407520e-01 8.61862351e-01\n",
      " 2.06747312e-01 2.61328916e-01 2.98689692e-01 4.85753085e-01\n",
      " 5.84861175e-01 7.74768066e-01 3.52037927e-01 1.99596806e-01\n",
      " 1.69750761e-01 6.26973356e-01 2.27615813e-01 4.84578431e-01\n",
      " 6.51924887e-01 6.85462633e-03 4.56273116e-02 2.86755666e-01\n",
      " 4.21377228e-01 1.97638868e-01 8.13518873e-03 1.11466915e-02\n",
      " 5.91957101e-02 1.13252559e-01 2.48496511e-01 9.53382787e-01\n",
      " 2.16144855e-01 2.88025188e-01 7.63669860e-01 9.42616856e-01\n",
      " 8.82068835e-01 5.88551241e-01 5.04987616e-02 9.57093913e-01\n",
      " 8.67866451e-01 8.72580743e-01 9.17917445e-01 6.27214217e-01\n",
      " 2.41868032e-01 5.71848579e-01 9.95437097e-01 2.13415680e-01\n",
      " 6.26584225e-01 7.87207774e-01 3.37623304e-01 2.87707144e-01\n",
      " 1.01396177e-01 3.71794995e-01 8.94430591e-01 9.06305226e-01\n",
      " 9.27874175e-01 6.66358054e-01 4.06850438e-01 7.39638812e-01\n",
      " 5.26913093e-01 3.81138589e-01 9.32288296e-01 7.20671152e-01\n",
      " 8.61691351e-03 2.60236921e-02 1.62080143e-01 6.82386690e-02\n",
      " 3.16387487e-01 1.32356352e-02 2.62381942e-01 1.55343449e-01\n",
      " 9.16790789e-03 2.07609646e-02 1.09358653e-02 6.27022646e-03\n",
      " 1.05203274e-01 4.99003807e-01 8.56277333e-03 7.40868419e-01\n",
      " 5.83717895e-01 5.40184137e-01 9.64676389e-01 9.40587866e-01\n",
      " 9.56144631e-02 7.75574414e-01 2.53478846e-01 5.41166408e-01\n",
      " 3.08186220e-01 9.59556954e-01 2.97100292e-01 9.95532508e-01\n",
      " 8.62924536e-01 4.03851805e-01 1.64052929e-01 4.44970850e-01\n",
      " 9.31984243e-02 2.07337641e-01 1.72379123e-01 1.85170500e-01\n",
      " 3.38636249e-01 1.14881006e-01 7.33617665e-02 2.01262808e-02\n",
      " 5.06481196e-02 5.97807298e-02 3.58354602e-02 1.49468287e-02\n",
      " 3.47123055e-02 3.22227472e-01 8.66236249e-01 8.97144667e-01\n",
      " 8.89247937e-01 4.45001936e-01 8.60912512e-01 5.38828652e-01\n",
      " 7.66116646e-01 7.22191655e-01 9.45653443e-01 9.91081194e-01\n",
      " 8.35166806e-01 6.40783527e-01 9.99486102e-01 3.40150945e-01\n",
      " 9.93818395e-01 8.95361694e-01 5.58725673e-04 2.09829679e-03\n",
      " 2.25083372e-02 1.07729910e-03 8.39580130e-02 1.66578048e-06\n",
      " 1.83729846e-04 1.28835867e-01 1.51247177e-05 3.20325809e-01\n",
      " 3.33103372e-01 3.69176475e-02 1.72965672e-04 4.52722155e-02\n",
      " 1.61751986e-02 8.86001354e-02 2.48270966e-02 3.46332693e-01\n",
      " 5.29703319e-01 7.57973209e-01 3.62932334e-02 2.72498596e-02\n",
      " 7.35874845e-01 4.15545018e-02 9.56182473e-02 7.04485375e-02\n",
      " 2.71530208e-02 2.98304623e-03 2.95916573e-01 6.89031047e-01\n",
      " 9.75161475e-01 7.75005096e-01 6.34258359e-01 8.59532851e-01\n",
      " 8.25520856e-01 9.02451230e-01 9.81678646e-01 8.04010088e-01\n",
      " 5.90663916e-01 5.68591337e-01 8.98842038e-01 9.55180410e-01\n",
      " 8.87480022e-01 5.14771717e-01 7.74348497e-01 5.02236808e-02\n",
      " 9.20641080e-02 6.42875517e-01 1.73830044e-02 1.94098107e-01\n",
      " 2.83658677e-03 4.24194881e-01 4.93404509e-02 9.97695451e-02\n",
      " 4.30057200e-02 1.96244973e-02 1.89578516e-03 2.38993873e-02\n",
      " 1.30029212e-01 4.60360255e-03 5.41798996e-01 1.57273643e-01\n",
      " 2.84458856e-02 1.29554210e-01 1.87826935e-01 2.56449943e-03\n",
      " 6.65562717e-02 1.76384848e-01 4.00503941e-01 4.70390917e-02\n",
      " 2.43473245e-01 1.96143603e-03 1.49754575e-02 1.47222044e-01\n",
      " 1.16879512e-01 1.06920915e-02 2.79469300e-03 1.64906628e-03\n",
      " 8.89892634e-03 6.90614157e-03 1.40204009e-01 3.42309506e-01\n",
      " 5.73498324e-02 2.82563172e-03 2.14810007e-02 1.21822198e-02\n",
      " 3.70742810e-03 5.09550516e-01 3.27404136e-01 1.06157472e-01\n",
      " 9.48236694e-01 7.67650301e-01 8.78207970e-01 9.23168359e-01\n",
      " 4.05676583e-01 9.89342193e-01 9.58359372e-01 6.47095437e-01\n",
      " 9.91505193e-01 8.64988900e-01 5.50302748e-01 5.67746055e-01\n",
      " 9.10686215e-01 6.89591133e-01 8.87387984e-01 4.44490631e-01\n",
      " 3.39212637e-01 7.93822565e-02 1.39390536e-01 8.07800841e-02\n",
      " 5.68033869e-03 7.88642593e-02 5.48643035e-02 3.51827141e-02\n",
      " 1.16884862e-01 1.20967928e-01 4.44894762e-03 5.63144922e-01\n",
      " 2.71789454e-01 2.04638738e-01 6.79759539e-02 5.42869103e-01\n",
      " 9.87404708e-01 9.00208600e-01 6.57851514e-01 9.51886256e-01\n",
      " 9.71555162e-01 6.74029808e-01 9.07435381e-01 2.66004357e-01\n",
      " 5.27306952e-01 9.64641431e-01 5.75167264e-01 8.75840317e-02\n",
      " 7.44769965e-01 9.00691209e-01 6.92846988e-01 8.99167405e-01\n",
      " 9.18681326e-01 8.22885133e-01 6.15064466e-01 8.86411070e-01\n",
      " 9.36732795e-01 8.29231938e-01 9.91883494e-01 9.88341635e-01\n",
      " 5.93550259e-01 4.17264883e-01 8.08037986e-01 6.65999576e-01\n",
      " 4.58175202e-01 4.38133217e-01 4.89692413e-01 9.44973696e-01\n",
      " 9.15910394e-01 1.37073346e-01 6.94521284e-01 9.20148907e-01\n",
      " 4.26433749e-01 6.24685233e-01 5.24034605e-01 3.51556820e-01\n",
      " 9.73167301e-01 5.73666138e-01 5.35783378e-01 3.12393631e-01\n",
      " 9.37262247e-01 9.04842682e-01 9.44049745e-01 9.28812190e-01\n",
      " 9.62846892e-01 8.24374392e-01 9.77437013e-01 5.78029213e-01\n",
      " 9.94039726e-01 2.30988447e-01 9.33766483e-01 8.06439792e-01\n",
      " 9.72556813e-01 7.48665104e-01 7.98298529e-01 9.61478307e-01\n",
      " 9.37824837e-02 9.44530801e-03 8.42715023e-03 2.80183444e-01\n",
      " 2.25964108e-02 3.07394546e-03 5.31121029e-03 9.81832101e-04\n",
      " 7.32585315e-05 3.31089089e-05 3.20204159e-06 1.75924302e-03\n",
      " 6.29678202e-02 2.36985807e-03 6.18634944e-03 2.27153480e-02\n",
      " 4.27152332e-02 1.13018209e-02 1.05981457e-02 3.54581145e-02\n",
      " 4.12965045e-03 3.25872683e-02 7.10765580e-03 7.88938954e-03\n",
      " 1.26114775e-02 1.40812544e-02 4.02727408e-01 2.01611479e-02\n",
      " 6.12938143e-02 7.55207497e-03 8.34809238e-02 3.26388592e-02\n",
      " 1.53521930e-01 3.42904451e-01 1.28554348e-01 6.24367409e-01\n",
      " 1.10076344e-01 2.20717559e-01 1.99282500e-01 1.97421031e-01\n",
      " 2.05846000e-01 4.11680012e-02 4.36363787e-03 9.89557306e-02\n",
      " 8.85188217e-03 3.15006912e-02 2.19243985e-03 5.56989729e-03\n",
      " 9.76165850e-03 3.08139419e-01 4.68012419e-02 4.81443157e-03\n",
      " 4.42143559e-02 3.82085714e-02 9.99933928e-02 2.42504924e-01\n",
      " 3.66441348e-03 1.61906627e-02 4.53368081e-02 7.51856200e-03\n",
      " 3.10944337e-01 8.72244824e-01 9.66203856e-01 9.63371351e-01\n",
      " 9.80708285e-01 9.48192610e-01 4.10865678e-01 8.03218602e-01\n",
      " 7.33034777e-01 9.88338808e-01 7.13370577e-01 7.98672994e-01\n",
      " 4.76973674e-01 8.89614583e-01 8.44850532e-01 1.19439119e-01\n",
      " 2.35093459e-01 2.50932580e-01 3.27190869e-01 4.46173723e-01\n",
      " 4.81490596e-01 6.44274718e-02 6.66223640e-02 3.81024201e-01\n",
      " 3.94991959e-01 1.15864403e-01 5.22196725e-01 6.18212390e-02\n",
      " 3.55904368e-01 2.63790986e-01 2.08922165e-01 2.03955046e-01\n",
      " 6.87434782e-02 6.59801418e-03 6.50282168e-02 3.71361551e-02\n",
      " 5.16392703e-02 2.26973578e-03 1.34762213e-03 4.59667776e-02\n",
      " 4.87979965e-02 4.80327364e-03 6.70398915e-02 6.95673353e-03\n",
      " 3.84170668e-01 1.30136366e-01 4.71921654e-03 3.52551789e-02\n",
      " 2.40126989e-02 5.70047751e-03 2.66471659e-02 2.65401840e-02\n",
      " 5.04376827e-03 2.80287731e-02 4.20743963e-02 2.12739301e-02\n",
      " 2.68116334e-03 2.06915215e-02 3.73821843e-03 4.60367624e-02\n",
      " 6.69662797e-02 5.96253926e-01 3.02379455e-01 2.39594041e-01\n",
      " 2.98032869e-01 2.04832256e-01 2.90239699e-01 2.59724011e-01\n",
      " 1.44465207e-01 2.86580629e-01 8.92174042e-02 2.18701515e-01\n",
      " 1.98490805e-01 2.63234471e-01 1.26942946e-01 1.96453346e-01\n",
      " 6.54987500e-02 4.41344798e-03 6.86614103e-04 8.37621738e-02\n",
      " 9.00721645e-03 5.53604411e-05 2.88748963e-04 1.03616823e-03\n",
      " 1.07918392e-04 4.05405694e-06 6.67847351e-03 1.09032022e-04\n",
      " 2.41633381e-02 3.42822613e-02 1.01301187e-02 5.40054830e-02\n",
      " 1.04294047e-02 1.13654622e-01 2.82949195e-02 1.53215790e-03\n",
      " 7.32493519e-02 1.09291405e-02 3.93820334e-02 1.08231266e-01\n",
      " 5.88368552e-02 1.80847934e-01 9.62837617e-04 6.91509023e-01\n",
      " 9.57941066e-02 6.07570270e-01 7.04341446e-02 6.05512009e-02\n",
      " 2.38426005e-01 8.47623069e-02 1.55993383e-03 2.50540824e-03\n",
      " 9.58464453e-02 1.21496756e-01 1.30066853e-01 2.75300230e-01\n",
      " 5.28981267e-03 2.98789201e-04 1.15503668e-01 1.24647697e-01\n",
      " 2.18636919e-01 4.97712582e-03 1.78732208e-02 4.14848903e-03\n",
      " 2.61031078e-01 4.72325786e-01 7.58466540e-01 5.96153998e-01\n",
      " 8.67058616e-01 8.84907417e-01 3.80898857e-01 8.32451857e-01\n",
      " 8.04815593e-01 6.89152787e-01 7.03553822e-01 7.41129711e-01\n",
      " 1.23090341e-01 8.51655849e-01 3.32054683e-01 9.92944927e-01\n",
      " 5.05853316e-01 6.43757290e-01 9.32210503e-01 2.52671044e-01\n",
      " 9.77689194e-01 8.67680454e-01 1.79463732e-01 8.33869557e-01\n",
      " 7.24014452e-01 9.67666833e-01 7.59499978e-01 8.60654542e-01\n",
      " 7.11981351e-01 9.61119393e-01 9.29690417e-01 9.85265687e-01\n",
      " 9.36191588e-01 9.53189371e-01 8.02960499e-01 9.55670161e-01\n",
      " 9.96086645e-01 9.66597854e-01 3.55347058e-01 8.39345789e-01\n",
      " 9.84657000e-01 8.79792738e-01 9.69849961e-01 9.38988953e-01\n",
      " 5.48069765e-01 9.88782850e-01 7.91325239e-01 8.83182664e-01\n",
      " 9.04685212e-01 8.84425041e-01 8.40353976e-01 7.91396559e-01\n",
      " 9.28858252e-01 1.77800486e-01 9.00534676e-01 9.56965679e-01\n",
      " 4.65306702e-01 6.78098621e-01 1.40373838e-01 9.06630269e-01\n",
      " 9.34151930e-01 8.49281037e-01 8.20183318e-01 4.07746546e-01\n",
      " 8.49339558e-01 8.72913253e-01 9.60530661e-01 9.64482752e-01\n",
      " 5.20454564e-01 6.33904303e-01 8.85422565e-01 8.22086826e-01\n",
      " 9.85001219e-01 9.62536347e-01 9.86029427e-01 9.68846016e-01\n",
      " 8.34140380e-01 8.22454606e-01 1.64501446e-01 9.22489379e-01\n",
      " 9.78055228e-01 4.82217806e-01 8.77913211e-01 3.21244538e-01\n",
      " 2.18312721e-01 1.97423032e-01 9.70944760e-01 3.17574529e-01\n",
      " 1.67233192e-01 2.53592245e-01 4.37056941e-01 3.99981726e-01\n",
      " 9.74406618e-01 9.13073148e-01 7.38050254e-01 9.74935049e-01\n",
      " 7.88240906e-01 9.49566055e-01 9.91188477e-01 9.44804962e-01\n",
      " 9.61926335e-01 9.88649428e-01 9.84588452e-01 8.51531591e-01\n",
      " 9.25321689e-01 7.52737451e-01 9.70746623e-01 9.01768137e-01\n",
      " 9.18648033e-01 9.80190279e-01 6.94676931e-02 7.78333726e-02\n",
      " 2.48940667e-04 4.51754761e-03 1.82558941e-02 4.18028418e-05\n",
      " 7.46280079e-02 1.05391385e-01 1.14636563e-02 1.43213604e-01\n",
      " 4.90053994e-02 1.76541119e-02 7.62669975e-03 2.88767009e-03\n",
      " 6.81070770e-03 9.06345202e-01 4.83330614e-01 7.75242939e-01\n",
      " 9.24515255e-01 5.04122229e-01 2.84772367e-01 1.12020427e-01\n",
      " 8.85447898e-01 5.96163094e-01 7.25125759e-01 6.76447061e-01\n",
      " 9.12172559e-01 7.86562402e-01 9.04119839e-01 6.94339990e-01\n",
      " 7.64900390e-01 8.24396602e-01 7.43703374e-01 7.99936658e-01\n",
      " 8.97888050e-01 9.39166276e-01 8.83201405e-01 9.44248061e-01\n",
      " 8.49771596e-01 7.37107684e-01 3.83931546e-01 6.38957573e-01\n",
      " 7.35181282e-01 7.96086548e-01 2.76245541e-01 9.70114987e-01\n",
      " 9.03772425e-01 7.48751858e-01 8.49528915e-01 1.69076927e-02\n",
      " 5.83178446e-01 1.66507833e-01 6.92680394e-02 5.62078783e-02\n",
      " 1.78174592e-02 8.46187863e-01 2.45611290e-03 5.04063081e-02\n",
      " 2.58362252e-01 6.09392495e-03 2.35594321e-02 2.86800441e-02\n",
      " 3.36007439e-02 2.25494976e-02 2.02091293e-01 3.08852203e-01\n",
      " 1.24758469e-03 1.00064224e-01 2.96429250e-02 2.80787900e-02\n",
      " 7.48709348e-02 3.29062061e-03 4.72270804e-03 1.47032391e-02\n",
      " 1.16281310e-01 3.17934513e-03 3.57385815e-01 2.29934003e-01\n",
      " 4.23352145e-01 4.96149879e-02 5.18062426e-01 3.68758460e-01\n",
      " 6.01177171e-01 6.92002816e-01 4.24795295e-01 8.26175540e-01\n",
      " 4.59502116e-01 4.26262470e-01 6.38814999e-01 9.46427543e-01\n",
      " 9.88965804e-01 7.85594775e-01 4.36553880e-01 6.22688659e-01\n",
      " 3.45333775e-01 2.01504899e-01 1.72639163e-01 2.08870218e-01\n",
      " 1.47309312e-01 2.84646008e-01 2.28977270e-01 2.26622173e-01\n",
      " 2.03761191e-01 1.66390843e-01 1.04205119e-01 1.48801324e-01\n",
      " 3.63458655e-01 1.51572935e-01 7.17691371e-03 2.71635598e-01\n",
      " 2.39091138e-01 2.14092289e-01 9.11773702e-04 7.14777681e-01\n",
      " 7.47030977e-01 8.27228849e-01 5.94976869e-01 4.52482396e-01\n",
      " 8.63672303e-01 9.92509900e-01 6.16897881e-01 8.08046655e-01\n",
      " 9.28156056e-01 7.63526764e-01 8.60291421e-01 3.02023741e-01\n",
      " 6.24659170e-01 9.21014771e-01 4.75200341e-01 4.49109694e-01\n",
      " 7.65872473e-01 9.40269480e-01 9.22079284e-01 9.74167826e-01\n",
      " 9.99017245e-01 9.59280632e-01 8.80838588e-01 9.88808782e-01\n",
      " 9.39019848e-01 9.34174648e-01 9.67583781e-01 8.35476693e-01\n",
      " 9.30234519e-01 6.74774105e-01]\n",
      "[0. 1. 0. 0. 0. 0. 0. 1. 0. 0. 0. 1. 0. 1. 0. 0. 0. 0. 0. 0. 0. 0. 0. 0.\n",
      " 0. 0. 0. 0. 0. 0. 1. 0. 1. 1. 1. 1. 1. 1. 1. 0. 1. 1. 1. 1. 1. 0. 0. 1.\n",
      " 1. 0. 0. 1. 1. 1. 1. 1. 1. 0. 1. 1. 1. 1. 0. 1. 0. 0. 0. 0. 0. 1. 0. 1.\n",
      " 0. 0. 0. 0. 0. 0. 0. 0. 0. 0. 0. 0. 0. 0. 0. 0. 0. 0. 0. 0. 0. 1. 1. 1.\n",
      " 1. 1. 0. 1. 1. 1. 1. 1. 1. 1. 1. 1. 0. 0. 0. 0. 0. 0. 0. 0. 0. 0. 0. 0.\n",
      " 0. 0. 0. 0. 0. 1. 1. 1. 1. 0. 1. 0. 0. 0. 1. 0. 1. 0. 0. 1. 1. 1. 0. 1.\n",
      " 1. 0. 1. 1. 1. 0. 1. 1. 1. 1. 1. 1. 1. 1. 1. 0. 0. 1. 0. 0. 0. 0. 0. 0.\n",
      " 1. 0. 0. 0. 0. 0. 0. 0. 0. 1. 1. 1. 1. 1. 1. 1. 1. 1. 1. 0. 0. 1. 1. 1.\n",
      " 0. 1. 1. 1. 0. 0. 1. 1. 0. 0. 0. 1. 1. 1. 0. 0. 0. 1. 0. 0. 1. 0. 0. 0.\n",
      " 0. 0. 0. 0. 0. 0. 0. 1. 0. 0. 1. 1. 1. 1. 0. 1. 1. 1. 1. 1. 0. 1. 1. 0.\n",
      " 1. 1. 0. 0. 0. 0. 1. 1. 1. 1. 0. 1. 1. 0. 1. 1. 0. 0. 0. 0. 0. 0. 0. 0.\n",
      " 0. 0. 0. 0. 0. 1. 0. 1. 1. 1. 1. 1. 0. 1. 0. 1. 0. 1. 0. 1. 1. 0. 0. 0.\n",
      " 0. 0. 0. 0. 0. 0. 0. 0. 0. 0. 0. 0. 0. 0. 1. 1. 1. 0. 1. 1. 1. 1. 1. 1.\n",
      " 1. 1. 1. 0. 1. 1. 0. 0. 0. 0. 0. 0. 0. 0. 0. 0. 0. 0. 0. 0. 0. 0. 0. 0.\n",
      " 1. 1. 0. 0. 1. 0. 0. 0. 0. 0. 0. 1. 1. 1. 1. 1. 1. 1. 1. 1. 1. 1. 1. 1.\n",
      " 1. 1. 1. 0. 0. 1. 0. 0. 0. 0. 0. 0. 0. 0. 0. 0. 0. 0. 1. 0. 0. 0. 0. 0.\n",
      " 0. 0. 0. 0. 0. 0. 0. 0. 0. 0. 0. 0. 0. 0. 0. 0. 0. 0. 0. 0. 0. 1. 0. 0.\n",
      " 1. 1. 1. 1. 0. 1. 1. 1. 1. 1. 1. 1. 1. 1. 1. 0. 0. 0. 0. 0. 0. 0. 0. 0.\n",
      " 0. 0. 0. 1. 0. 0. 0. 1. 1. 1. 1. 1. 1. 1. 1. 0. 1. 1. 1. 0. 1. 1. 1. 1.\n",
      " 1. 1. 1. 1. 1. 1. 1. 1. 1. 0. 1. 1. 0. 0. 0. 1. 1. 0. 1. 1. 0. 1. 1. 0.\n",
      " 1. 1. 1. 0. 1. 1. 1. 1. 1. 1. 1. 1. 1. 0. 1. 1. 1. 1. 1. 1. 0. 0. 0. 0.\n",
      " 0. 0. 0. 0. 0. 0. 0. 0. 0. 0. 0. 0. 0. 0. 0. 0. 0. 0. 0. 0. 0. 0. 0. 0.\n",
      " 0. 0. 0. 0. 0. 0. 0. 1. 0. 0. 0. 0. 0. 0. 0. 0. 0. 0. 0. 0. 0. 0. 0. 0.\n",
      " 0. 0. 0. 0. 0. 0. 0. 0. 0. 1. 1. 1. 1. 1. 0. 1. 1. 1. 1. 1. 0. 1. 1. 0.\n",
      " 0. 0. 0. 0. 0. 0. 0. 0. 0. 0. 1. 0. 0. 0. 0. 0. 0. 0. 0. 0. 0. 0. 0. 0.\n",
      " 0. 0. 0. 0. 0. 0. 0. 0. 0. 0. 0. 0. 0. 0. 0. 0. 0. 0. 0. 0. 0. 1. 0. 0.\n",
      " 0. 0. 0. 0. 0. 0. 0. 0. 0. 0. 0. 0. 0. 0. 0. 0. 0. 0. 0. 0. 0. 0. 0. 0.\n",
      " 0. 0. 0. 0. 0. 0. 0. 0. 0. 0. 0. 0. 0. 0. 0. 1. 0. 1. 0. 0. 0. 0. 0. 0.\n",
      " 0. 0. 0. 0. 0. 0. 0. 0. 0. 0. 0. 0. 0. 0. 1. 1. 1. 1. 0. 1. 1. 1. 1. 1.\n",
      " 0. 1. 0. 1. 1. 1. 1. 0. 1. 1. 0. 1. 1. 1. 1. 1. 1. 1. 1. 1. 1. 1. 1. 1.\n",
      " 1. 1. 0. 1. 1. 1. 1. 1. 1. 1. 1. 1. 1. 1. 1. 1. 1. 0. 1. 1. 0. 1. 0. 1.\n",
      " 1. 1. 1. 0. 1. 1. 1. 1. 1. 1. 1. 1. 1. 1. 1. 1. 1. 1. 0. 1. 1. 0. 1. 0.\n",
      " 0. 0. 1. 0. 0. 0. 0. 0. 1. 1. 1. 1. 1. 1. 1. 1. 1. 1. 1. 1. 1. 1. 1. 1.\n",
      " 1. 1. 0. 0. 0. 0. 0. 0. 0. 0. 0. 0. 0. 0. 0. 0. 0. 1. 0. 1. 1. 1. 0. 0.\n",
      " 1. 1. 1. 1. 1. 1. 1. 1. 1. 1. 1. 1. 1. 1. 1. 1. 1. 1. 0. 1. 1. 1. 0. 1.\n",
      " 1. 1. 1. 0. 1. 0. 0. 0. 0. 1. 0. 0. 0. 0. 0. 0. 0. 0. 0. 0. 0. 0. 0. 0.\n",
      " 0. 0. 0. 0. 0. 0. 0. 0. 0. 0. 1. 0. 1. 1. 0. 1. 0. 0. 1. 1. 1. 1. 0. 1.\n",
      " 0. 0. 0. 0. 0. 0. 0. 0. 0. 0. 0. 0. 0. 0. 0. 0. 0. 0. 0. 1. 1. 1. 1. 0.\n",
      " 1. 1. 1. 1. 1. 1. 1. 0. 1. 1. 0. 0. 1. 1. 1. 1. 1. 1. 1. 1. 1. 1. 1. 1.\n",
      " 1. 1.]\n"
     ]
    }
   ],
   "source": [
    "answers = np.array([])\n",
    "preds = np.array([])\n",
    "with torch.no_grad():\n",
    "    for s in tqdm(my_val,disable=disable):\n",
    "        x, y = s.values()\n",
    "        x = x.cuda()\n",
    "        y = y.cuda()\n",
    "        y_pred = model(x).cpu()\n",
    "        answers = np.append(answers,y_pred[:,1])\n",
    "        preds = np.append(preds,torch.max(y_pred,1)[1])\n",
    "answers = np.exp(answers)\n",
    "print(answers)\n",
    "print(preds)"
   ]
  },
  {
   "cell_type": "code",
   "execution_count": 9,
   "metadata": {},
   "outputs": [
    {
     "name": "stdout",
     "output_type": "stream",
     "text": [
      "False Positives:\n",
      "1-800-flowers - 2\n",
      "1-800-flowers - 8\n",
      "1-800-flowers - 12\n",
      "1-800-flowers - 14\n",
      "American Apparel - 1\n",
      "American Apparel - 7\n",
      "American Apparel - 9\n",
      "Blinkee - 1\n",
      "Blinkee - 8\n",
      "Costco - 2\n",
      "Costco - 13\n",
      "CVS - 14\n",
      "Fanatics - 4\n",
      "Fanatics - 5\n",
      "Fanatics - 8\n",
      "Fanatics - 15\n",
      "Footlocker - 3\n",
      "Free City Supershop - 1\n",
      "H & M - 17\n",
      "Ikea - 13\n",
      "Mercia Tourist Board - 6\n",
      "Nordstrom - 12\n",
      "Paradise With A View - 1\n",
      "Rakuten - 16\n",
      "Rakuten - 18\n",
      "Urban Outfitters - 2\n",
      "Urban Outfitters - 7\n",
      "\n",
      "False Negatives:\n",
      "Alibaba - 2\n",
      "Alibaba - 10\n",
      "Amazon - 1\n",
      "Amazon - 2\n",
      "Amazon - 5\n",
      "Amazon - 6\n",
      "Amazon - 13\n",
      "Amazon - 18\n",
      "Azteca Soccer - 6\n",
      "BestBuy - 5\n",
      "BestBuy - 7\n",
      "BestBuy - 8\n",
      "BestBuy - 9\n",
      "BestBuy - 11\n",
      "BestBuy - 13\n",
      "BestBuy - 14\n",
      "BestBuy - 18\n",
      "BigCommerce - 3\n",
      "BigCommerce - 7\n",
      "BigCommerce - 17\n",
      "BigCommerce - 18\n",
      "Bliss - 11\n",
      "Bliss - 12\n",
      "BonBonBon - 1\n",
      "BonBonBon - 5\n",
      "BonBonBon - 6\n",
      "BonBonBon - 9\n",
      "BonBonBon - 10\n",
      "BonBonBon - 11\n",
      "BonBonBon - 15\n",
      "BonBonBon - 16\n",
      "BonBonBon - 17\n",
      "BonBonBon - 19\n",
      "CruiseMaster - 5\n",
      "CruiseMaster - 11\n",
      "CruiseMaster - 14\n",
      "Custom Barres - 2\n",
      "Custom Barres - 3\n",
      "Custom Barres - 4\n",
      "Custom Barres - 5\n",
      "Custom Barres - 10\n",
      "Custom Barres - 13\n",
      "Decibullz - 6\n",
      "Decibullz - 8\n",
      "Decibullz - 10\n",
      "Decibullz - 12\n",
      "Decibullz - 15\n",
      "eBay - 4\n",
      "eBay - 14\n",
      "Home Science Tools - 5\n",
      "Jabong - 9\n",
      "Jabong - 13\n",
      "Jeep People - 12\n",
      "Jeep People - 15\n",
      "Koi Computer - 1\n",
      "Koi Computer - 2\n",
      "Koi Computer - 5\n",
      "Koi Computer - 8\n",
      "Koi Computer - 11\n",
      "Koi Computer - 15\n",
      "Lazada - 10\n",
      "Next Chapter - 1\n",
      "Next Chapter - 7\n",
      "Next Chapter - 13\n",
      "Renogy - 5\n",
      "Renogy - 11\n",
      "Renogy - 13\n",
      "Rusty Surfboards - 2\n",
      "Rusty Surfboards - 5\n",
      "Shopee - 6\n",
      "Shopify - 5\n",
      "Shopify - 8\n",
      "Shopify - 10\n",
      "Shopify - 15\n",
      "Signal Boosters - 15\n",
      "Skullcandy - 3\n",
      "Skullcandy - 5\n",
      "Skullcandy - 6\n",
      "Skullcandy - 7\n",
      "Skullcandy - 9\n",
      "Skullcandy - 10\n",
      "Skullcandy - 11\n",
      "Skullcandy - 12\n",
      "Skullcandy - 13\n",
      "The Mountain - 2\n",
      "The Mountain - 6\n",
      "The Mountain - 7\n",
      "True Links Wear - 8\n",
      "True Links Wear - 12\n",
      "Walmart - 2\n",
      "Walmart - 5\n",
      "Walmart - 7\n",
      "Walmart - 8\n",
      "Walmart - 13\n",
      "Walmart - 15\n",
      "Woocommerce - 5\n",
      "Woocommerce - 13\n",
      "Zalora - 1\n",
      "Zalora - 2\n"
     ]
    }
   ],
   "source": [
    "false_pos = []\n",
    "false_neg = []\n",
    "\n",
    "for i in range(0,len(answers)):\n",
    "#     print(\"{} Predicted: {} \\t Actual: {}\".format(images[i],int(preds[i]),int(labels[i])))\n",
    "    if int(labels[i]) < int(preds[i]):\n",
    "        false_pos.append(images[i])\n",
    "    elif int(labels[i]) > int(preds[i]):\n",
    "        false_neg.append(images[i])\n",
    "print(\"False Positives:\")\n",
    "for x in false_pos:\n",
    "    print(x)\n",
    "print(\"\\nFalse Negatives:\")\n",
    "for x in false_neg:\n",
    "    print(x)"
   ]
  },
  {
   "cell_type": "code",
   "execution_count": 9,
   "metadata": {},
   "outputs": [],
   "source": [
    "with open('AffonsoNetoutprobs.pt', 'wb') as f:\n",
    "    pickle.dump(answers, f)"
   ]
  },
  {
   "cell_type": "code",
   "execution_count": 10,
   "metadata": {},
   "outputs": [
    {
     "name": "stdout",
     "output_type": "stream",
     "text": [
      "Confusion matrix, without normalization\n",
      "[[195 270]\n",
      " [215 258]]\n",
      "Normalized confusion matrix\n",
      "[[0.42 0.58]\n",
      " [0.45 0.55]]\n"
     ]
    },
    {
     "data": {
      "image/png": "[encoded data removed]",
      "text/plain": [
       "<Figure size 432x288 with 2 Axes>"
      ]
     },
     "metadata": {
      "needs_background": "light"
     },
     "output_type": "display_data"
    },
    {
     "data": {
      "image/png": "[encoded data removed]",
      "text/plain": [
       "<Figure size 432x288 with 2 Axes>"
      ]
     },
     "metadata": {
      "needs_background": "light"
     },
     "output_type": "display_data"
    },
    {
     "name": "stdout",
     "output_type": "stream",
     "text": [
      "Accuracy: 0.4829\n"
     ]
    }
   ],
   "source": [
    "from sklearn.metrics import *\n",
    "import itertools\n",
    "import pickle\n",
    "with open('AffonsoNetout.pt', 'rb') as f:\n",
    "    y_pred = pickle.load(f)\n",
    "def plot_confusion_matrix(cm, classes,\n",
    "                          normalize=False,\n",
    "                          title='Confusion matrix',\n",
    "                          cmap=plt.cm.Blues):\n",
    "    \"\"\"\n",
    "    This function prints and plots the confusion matrix.\n",
    "    Normalization can be applied by setting `normalize=True`.\n",
    "    \"\"\"\n",
    "    if normalize:\n",
    "        cm = cm.astype('float') / cm.sum(axis=1)[:, np.newaxis]\n",
    "        print(\"Normalized confusion matrix\")\n",
    "    else:\n",
    "        print('Confusion matrix, without normalization')\n",
    "\n",
    "    print(cm)\n",
    "\n",
    "    plt.imshow(cm, interpolation='nearest', cmap=cmap)\n",
    "    plt.title(title)\n",
    "    plt.colorbar()\n",
    "    tick_marks = np.arange(len(classes))\n",
    "    plt.xticks(tick_marks, classes, rotation=45)\n",
    "    plt.yticks(tick_marks, classes)\n",
    "\n",
    "    fmt = '.2f' if normalize else 'd'\n",
    "    thresh = cm.max() / 2.\n",
    "    for i, j in itertools.product(range(cm.shape[0]), range(cm.shape[1])):\n",
    "        plt.text(j, i, format(cm[i, j], fmt),\n",
    "                 horizontalalignment=\"center\",\n",
    "                 color=\"black\" if cm[i, j] > thresh else \"black\")\n",
    "\n",
    "    plt.ylabel('True label')\n",
    "    plt.xlabel('Predicted label')\n",
    "    plt.tight_layout()\n",
    "\n",
    "\n",
    "y_test = np.array([])\n",
    "\n",
    "for x in labels:\n",
    "    y_test = np.append(y_test,x)\n",
    "\n",
    "class_names = [\"bad site\",\"good site\"]\n",
    "\n",
    "# Compute confusion matrix\n",
    "cnf_matrix = confusion_matrix(y_test, y_pred)\n",
    "np.set_printoptions(precision=2)\n",
    "\n",
    "# Plot non-normalized confusion matrix\n",
    "plt.figure()\n",
    "plot_confusion_matrix(cnf_matrix, classes=class_names,\n",
    "                      title='Confusion matrix, without normalization')\n",
    "\n",
    "# Plot normalized confusion matrix\n",
    "plt.figure()\n",
    "plot_confusion_matrix(cnf_matrix, classes=class_names, normalize=True,\n",
    "                      title='Normalized confusion matrix')\n",
    "\n",
    "plt.show()\n",
    "print(\"Accuracy: {:.4f}\".format(np.mean(y_test==y_pred)))"
   ]
  },
  {
   "cell_type": "code",
   "execution_count": null,
   "metadata": {},
   "outputs": [],
   "source": []
  }
 ],
 "metadata": {
  "kernelspec": {
   "display_name": "Python 3",
   "language": "python",
   "name": "python3"
  },
  "language_info": {
   "codemirror_mode": {
    "name": "ipython",
    "version": 3
   },
   "file_extension": ".py",
   "mimetype": "text/x-python",
   "name": "python",
   "nbconvert_exporter": "python",
   "pygments_lexer": "ipython3",
   "version": "3.7.1"
  }
 },
 "nbformat": 4,
 "nbformat_minor": 2
}
