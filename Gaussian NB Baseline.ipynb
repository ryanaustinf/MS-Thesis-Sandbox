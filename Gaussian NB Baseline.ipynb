{
 "cells": [
  {
   "cell_type": "code",
   "execution_count": 1,
   "metadata": {},
   "outputs": [],
   "source": [
    "# https://github.com/pytorch/examples/blob/master/mnist/main.py\n",
    "from __future__ import print_function\n",
    "%matplotlib inline\n",
    "import pandas as pd\n",
    "import matplotlib.pyplot as plt\n",
    "import argparse\n",
    "import torch\n",
    "import torch.nn as nn\n",
    "import torch.nn.functional as F\n",
    "import torch.optim as optim\n",
    "from torchvision import datasets, transforms\n",
    "from torch.autograd import Variable\n",
    "import numpy as np\n",
    "import PIL\n",
    "from random import shuffle\n",
    "from skimage.transform import resize\n",
    "from torch.utils.data import Dataset, DataLoader\n",
    "from tqdm import tqdm\n",
    "from sklearn.naive_bayes import GaussianNB"
   ]
  },
  {
   "cell_type": "code",
   "execution_count": null,
   "metadata": {},
   "outputs": [],
   "source": [
    "sites = [\n",
    "\t{\"id\": \"1-800-flowers\", \"count\" : 15,\"label\" : 0},\n",
    "\t{\"id\": \"Alfred Sung\", \"count\" : 15,\"label\" : 0},\n",
    "\t{\"id\": \"Alibaba\", \"count\" : 15,\"label\" : 1},\n",
    "\t{\"id\": \"Amazon\", \"count\" : 18,\"label\" : 1},\n",
    "\t{\"id\": \"American Apparel\", \"count\" : 15,\"label\" : 0},\n",
    "\t{\"id\": \"Arngren\", \"count\" : 15,\"label\" : 0},\n",
    "\t{\"id\": \"Azteca Soccer\", \"count\" : 15,\"label\" : 1},\n",
    "\t{\"id\": \"Best Electronic\", \"count\" : 17,\"label\" : 0},\n",
    "\t{\"id\": \"BestBuy\", \"count\" : 18,\"label\" : 1},\n",
    "\t{\"id\": \"BigCommerce\", \"count\" : 18,\"label\" : 1},\n",
    "\t{\"id\": \"Blinkee\", \"count\" : 16,\"label\" : 0},\n",
    "\t{\"id\": \"Bliss\", \"count\" : 15,\"label\" : 1},\n",
    "\t{\"id\": \"BonBonBon\", \"count\" : 19,\"label\" : 1},\n",
    "\t{\"id\": \"Costco\", \"count\" : 15,\"label\" : 0},\n",
    "\t{\"id\": \"CruiseMaster\", \"count\" : 15,\"label\" : 1},\n",
    "\t{\"id\": \"Custom Barres\", \"count\" : 15,\"label\" : 1},\n",
    "\t{\"id\": \"CVS\", \"count\" : 15,\"label\" : 0},\n",
    "\t{\"id\": \"Decibullz\", \"count\" : 15,\"label\" : 1},\n",
    "\t{\"id\": \"DSW\", \"count\" : 16,\"label\" : 0},\n",
    "\t{\"id\": \"eBay\", \"count\" : 16,\"label\" : 1},\n",
    "\t{\"id\": \"Electrifying Times\", \"count\" : 15,\"label\" : 0},\n",
    "\t{\"id\": \"Fanatics\", \"count\" : 15,\"label\" : 0},\n",
    "\t{\"id\": \"Flipkart\", \"count\" : 15,\"label\" : 1},\n",
    "\t{\"id\": \"Footlocker\", \"count\" : 15,\"label\" : 0},\n",
    "\t{\"id\": \"Free City Supershop\", \"count\" : 11,\"label\" : 0},\n",
    "\t{\"id\": \"H & M\", \"count\" : 19,\"label\" : 0},\n",
    "\t{\"id\": \"Home Science Tools\", \"count\" : 15,\"label\" : 1},\n",
    "\t{\"id\": \"Ikea\", \"count\" : 16,\"label\" : 0},\n",
    "\t{\"id\": \"Jabong\", \"count\" : 15,\"label\" : 1},\n",
    "\t{\"id\": \"Jeep People\", \"count\" : 15,\"label\" : 1},\n",
    "\t{\"id\": \"Koi Computer\", \"count\" : 15,\"label\" : 1},\n",
    "\t{\"id\": \"Lazada\", \"count\" : 16,\"label\" : 1},\n",
    "\t{\"id\": \"Ling's Cars\", \"count\" : 15,\"label\" : 0},\n",
    "\t{\"id\": \"Mednat\", \"count\" : 15,\"label\" : 0},\n",
    "\t{\"id\": \"Mercia Tourist Board\", \"count\" : 12,\"label\" : 0},\n",
    "\t{\"id\": \"Microcenter.com\", \"count\" : 18, \"label\" : 0},\n",
    "\t{\"id\": \"Next Chapter\", \"count\" : 15,\"label\" : 1},\n",
    "\t{\"id\": \"Nordstrom\", \"count\" : 16,\"label\" : 0},\n",
    "\t{\"id\": \"Opensky\", \"count\" : 15,\"label\" : 0},\n",
    "\t{\"id\": \"P & M Computers\", \"count\" : 15,\"label\" : 0},\n",
    "\t{\"id\": \"Paradise With A View\", \"count\" : 15,\"label\" : 0},\n",
    "\t{\"id\": \"Pennyjuice\", \"count\" : 12,\"label\" : 0},\n",
    "\t{\"id\": \"Rakuten\", \"count\" : 19,\"label\" : 0},\n",
    "\t{\"id\": \"RalphLauren.com\", \"count\" : 19,\"label\" : 0},\n",
    "\t{\"id\": \"Renogy\", \"count\" : 16,\"label\" : 1},\n",
    "\t{\"id\": \"Rusty Surfboards\", \"count\" : 15,\"label\" : 1},\n",
    "\t{\"id\": \"Shopee\", \"count\" : 16,\"label\" : 1},\n",
    "\t{\"id\": \"Shopify\", \"count\" : 15,\"label\" : 1},\n",
    "\t{\"id\": \"Signal Boosters\", \"count\" : 15,\"label\" : 1},\n",
    "\t{\"id\": \"Skullcandy\", \"count\" : 16,\"label\" : 1},\n",
    "\t{\"id\": \"SnapDeal\", \"count\" : 15,\"label\" : 1},\n",
    "\t{\"id\": \"Suzanne Collins Books\", \"count\" : 15,\"label\" : 0},\n",
    "\t{\"id\": \"The Mountain\", \"count\" : 18,\"label\" : 1},\n",
    "\t{\"id\": \"True Links Wear\", \"count\" : 16,\"label\" : 1},\n",
    "\t{\"id\": \"Urban Outfitters\", \"count\" : 15,\"label\" : 0},\n",
    "\t{\"id\": \"Walgreens\", \"count\" : 16,\"label\" : 0},\n",
    "\t{\"id\": \"Walmart\", \"count\" : 15,\"label\" : 1},\n",
    "\t{\"id\": \"Water Equipment\", \"count\" : 18,\"label\" : 0},\n",
    "\t{\"id\": \"Woocommerce\", \"count\" : 15,\"label\" : 1},\n",
    "\t{\"id\": \"Zalora\", \"count\" : 16,\"label\" : 1}   \n",
    "]"
   ]
  },
  {
   "cell_type": "code",
   "execution_count": null,
   "metadata": {
    "scrolled": true
   },
   "outputs": [],
   "source": [
    "folds = [[] for i in range(5)]\n",
    "good = [x for x in sites if x[\"label\"] == 1]\n",
    "bad = [x for x in sites if x[\"label\"] == 0]\n",
    "shuffle(good)\n",
    "shuffle(bad)\n",
    "for i in range(30):\n",
    "    folds[i//6].append(good[i])\n",
    "    folds[i//6].append(bad[i])\n",
    "\n",
    "for i in range(5):\n",
    "    print(\"Fold\",i);\n",
    "    for j in folds[i]:\n",
    "        print(j[\"id\"],j[\"count\"],j[\"label\"])\n",
    "    print()"
   ]
  },
  {
   "cell_type": "code",
   "execution_count": null,
   "metadata": {},
   "outputs": [],
   "source": [
    "# data = [[] for i in range(5)]\n",
    "# labels = [[] for i in range(5)]\n",
    "# sum = 0\n",
    "# for i in range(0,5):\n",
    "#     for site in folds[i]:\n",
    "#         sum += site[\"count\"]\n",
    "#         for j in range(1,site['count'] + 1):\n",
    "# #         for i in range(1,2):\n",
    "#             labels[i] = labels[i] + [site[\"label\"]]\n",
    "#             temp = PIL.Image.open(\"%s/%s - %02d.png\" % (site['id'],site['id'],j))\n",
    "#             temp = np.array(temp);\n",
    "#             temp = resize(temp, (temp.shape[0] // 2, temp.shape[1] // 2), anti_aliasing=True)\n",
    "#             data[i].append(temp)\n",
    "#             print(\"Loading %s/%s - %02d.png\" % (site['id'],site['id'],j))\n",
    "# print(\"Loaded %d screens.\" % sum)\n",
    "# print(labels)"
   ]
  },
  {
   "cell_type": "code",
   "execution_count": 2,
   "metadata": {},
   "outputs": [],
   "source": [
    "import pickle"
   ]
  },
  {
   "cell_type": "code",
   "execution_count": null,
   "metadata": {},
   "outputs": [],
   "source": [
    "# with open('data.pt', 'wb') as f:\n",
    "#     pickle.dump(data, f)\n",
    "    \n",
    "# with open('labels.pt', 'wb') as f:\n",
    "#     pickle.dump(labels, f)"
   ]
  },
  {
   "cell_type": "code",
   "execution_count": 3,
   "metadata": {},
   "outputs": [],
   "source": [
    "with open('data.pt', 'rb') as f:\n",
    "    data = pickle.load(f)\n",
    "    \n",
    "with open('labels.pt', 'rb') as f:\n",
    "    labels = pickle.load(f)"
   ]
  },
  {
   "cell_type": "code",
   "execution_count": 4,
   "metadata": {},
   "outputs": [],
   "source": [
    "for i in range(len(data)):\n",
    "    for j in range(len(data[i])):\n",
    "        data[i][j] = data[i][j].reshape((786816,))\n",
    "#         print(data[i][j].shape)"
   ]
  },
  {
   "cell_type": "code",
   "execution_count": null,
   "metadata": {},
   "outputs": [],
   "source": [
    "avedacc, avevacc = 0,0\n",
    "\n",
    "for i in range(5):\n",
    "    model = GaussianNB()\n",
    "    print(\"Fold %d\" % (i + 1))\n",
    "    trainX = []\n",
    "    trainY = []\n",
    "    testX = []\n",
    "    testY = []\n",
    "    for j in range(5):\n",
    "        if i != j:\n",
    "            trainX = trainX + data[j]\n",
    "            trainY = trainY + labels[j]\n",
    "        else:\n",
    "            testX = data[j]\n",
    "            testY = labels[j]\n",
    "    trainX = np.array(trainX)\n",
    "    trainY = np.array(trainY)\n",
    "    testX = np.array(testX)\n",
    "    testY = np.array(testY)\n",
    "#     print(trainX.shape)\n",
    "#     print(trainY.shape)\n",
    "#     print(testX.shape)\n",
    "#     print(testY.shape)\n",
    "    \n",
    "    \n",
    "    model.fit(trainX,trainY)\n",
    "    \n",
    "    train_out = model.predict(trainX)\n",
    "    test_out = model.predict(testX)\n",
    "    folddacc = np.mean(train_out == trainY)\n",
    "    foldvacc = np.mean(test_out == testY)\n",
    "    print(\"Fold Train Accuracy {:.6f} Fold Test Accuracy {:.6f}\".format(folddacc,foldvacc))\n",
    "    avedacc += folddacc\n",
    "    avevacc += foldvacc\n",
    "\n",
    "avedacc /= 5\n",
    "avevacc /= 5\n",
    "print(\"Average Train Accuracy: {:.6f}\\nAverage Test Accuracy: {:.6f}\\n\".format(avedacc,avevacc))"
   ]
  },
  {
   "cell_type": "code",
   "execution_count": 5,
   "metadata": {},
   "outputs": [
    {
     "name": "stdout",
     "output_type": "stream",
     "text": [
      "Fold 5\n"
     ]
    },
    {
     "ename": "AttributeError",
     "evalue": "'GaussianNB' object has no attribute 'predict_probs'",
     "output_type": "error",
     "traceback": [
      "\u001b[1;31m---------------------------------------------------------------------------\u001b[0m",
      "\u001b[1;31mAttributeError\u001b[0m                            Traceback (most recent call last)",
      "\u001b[1;32m<ipython-input-5-0917fa9e2155>\u001b[0m in \u001b[0;36m<module>\u001b[1;34m\u001b[0m\n\u001b[0;32m     16\u001b[0m \u001b[1;33m\u001b[0m\u001b[0m\n\u001b[0;32m     17\u001b[0m \u001b[0mtrain_out\u001b[0m \u001b[1;33m=\u001b[0m \u001b[0mmodel\u001b[0m\u001b[1;33m.\u001b[0m\u001b[0mpredict\u001b[0m\u001b[1;33m(\u001b[0m\u001b[0mtrainX\u001b[0m\u001b[1;33m)\u001b[0m\u001b[1;33m\u001b[0m\u001b[1;33m\u001b[0m\u001b[0m\n\u001b[1;32m---> 18\u001b[1;33m \u001b[0mtemp_out\u001b[0m \u001b[1;33m=\u001b[0m \u001b[0mmodel\u001b[0m\u001b[1;33m.\u001b[0m\u001b[0mpredict_probs\u001b[0m\u001b[1;33m(\u001b[0m\u001b[0mtrainX\u001b[0m\u001b[1;33m)\u001b[0m\u001b[1;33m\u001b[0m\u001b[1;33m\u001b[0m\u001b[0m\n\u001b[0m\u001b[0;32m     19\u001b[0m \u001b[0mfolddacc\u001b[0m \u001b[1;33m=\u001b[0m \u001b[0mnp\u001b[0m\u001b[1;33m.\u001b[0m\u001b[0mmean\u001b[0m\u001b[1;33m(\u001b[0m\u001b[0mtrain_out\u001b[0m \u001b[1;33m==\u001b[0m \u001b[0mtrainY\u001b[0m\u001b[1;33m)\u001b[0m\u001b[1;33m\u001b[0m\u001b[1;33m\u001b[0m\u001b[0m\n\u001b[0;32m     20\u001b[0m \u001b[0mprint\u001b[0m\u001b[1;33m(\u001b[0m\u001b[1;34m\"Fold Train Accuracy {:.6f} \"\u001b[0m\u001b[1;33m.\u001b[0m\u001b[0mformat\u001b[0m\u001b[1;33m(\u001b[0m\u001b[0mfolddacc\u001b[0m\u001b[1;33m)\u001b[0m\u001b[1;33m)\u001b[0m\u001b[1;33m\u001b[0m\u001b[1;33m\u001b[0m\u001b[0m\n",
      "\u001b[1;31mAttributeError\u001b[0m: 'GaussianNB' object has no attribute 'predict_probs'"
     ]
    }
   ],
   "source": [
    "avedacc, avevacc = 0,0\n",
    "\n",
    "model = GaussianNB()\n",
    "print(\"Fold %d\" % (i + 1))\n",
    "trainX = []\n",
    "trainY = []\n",
    "testX = []\n",
    "testY = []\n",
    "for j in range(5):\n",
    "    trainX = trainX + data[j]\n",
    "    trainY = trainY + labels[j]\n",
    "trainX = np.array(trainX)\n",
    "trainY = np.array(trainY)\n",
    "\n",
    "model.fit(trainX,trainY)\n",
    "\n",
    "train_out = model.predict(trainX)\n",
    "temp_out = model.predict_proba(trainX)\n",
    "folddacc = np.mean(train_out == trainY)\n",
    "print(\"Fold Train Accuracy {:.6f} \".format(folddacc))"
   ]
  },
  {
   "cell_type": "code",
   "execution_count": 8,
   "metadata": {},
   "outputs": [],
   "source": [
    "with open('naivebayesoutprobs.pt', 'wb') as f:\n",
    "    pickle.dump(temp_out[:,1], f)"
   ]
  },
  {
   "cell_type": "code",
   "execution_count": 5,
   "metadata": {},
   "outputs": [
    {
     "name": "stdout",
     "output_type": "stream",
     "text": [
      "Confusion matrix, without normalization\n",
      "[[229 236]\n",
      " [102 371]]\n",
      "Normalized confusion matrix\n",
      "[[0.49 0.51]\n",
      " [0.22 0.78]]\n"
     ]
    },
    {
     "data": {
      "image/png": "[encoded data removed]",
      "text/plain": [
       "<Figure size 432x288 with 2 Axes>"
      ]
     },
     "metadata": {
      "needs_background": "light"
     },
     "output_type": "display_data"
    },
    {
     "data": {
      "image/png": "[encoded data removed]",
      "text/plain": [
       "<Figure size 432x288 with 2 Axes>"
      ]
     },
     "metadata": {
      "needs_background": "light"
     },
     "output_type": "display_data"
    },
    {
     "name": "stdout",
     "output_type": "stream",
     "text": [
      "Accuracy: 0.6397\n"
     ]
    }
   ],
   "source": [
    "from sklearn.metrics import *\n",
    "import itertools\n",
    "import pickle\n",
    "with open('naivebayesout.pt', 'rb') as f:\n",
    "    y_pred = pickle.load(f)\n",
    "def plot_confusion_matrix(cm, classes,\n",
    "                          normalize=False,\n",
    "                          title='Confusion matrix',\n",
    "                          cmap=plt.cm.Blues):\n",
    "    \"\"\"\n",
    "    This function prints and plots the confusion matrix.\n",
    "    Normalization can be applied by setting `normalize=True`.\n",
    "    \"\"\"\n",
    "    if normalize:\n",
    "        cm = cm.astype('float') / cm.sum(axis=1)[:, np.newaxis]\n",
    "        print(\"Normalized confusion matrix\")\n",
    "    else:\n",
    "        print('Confusion matrix, without normalization')\n",
    "\n",
    "    print(cm)\n",
    "\n",
    "    plt.imshow(cm, interpolation='nearest', cmap=cmap)\n",
    "    plt.title(title)\n",
    "    plt.colorbar()\n",
    "    tick_marks = np.arange(len(classes))\n",
    "    plt.xticks(tick_marks, classes, rotation=45)\n",
    "    plt.yticks(tick_marks, classes)\n",
    "\n",
    "    fmt = '.2f' if normalize else 'd'\n",
    "    thresh = cm.max() / 2.\n",
    "    for i, j in itertools.product(range(cm.shape[0]), range(cm.shape[1])):\n",
    "        plt.text(j, i, format(cm[i, j], fmt),\n",
    "                 horizontalalignment=\"center\",\n",
    "                 color=\"white\" if cm[i, j] > thresh else \"black\")\n",
    "\n",
    "    plt.ylabel('True label')\n",
    "    plt.xlabel('Predicted label')\n",
    "    plt.tight_layout()\n",
    "\n",
    "\n",
    "y_test = np.array([])\n",
    "\n",
    "for x in labels:\n",
    "    y_test = np.append(y_test,x)\n",
    "\n",
    "class_names = [\"bad site\",\"good site\"]\n",
    "\n",
    "# Compute confusion matrix\n",
    "cnf_matrix = confusion_matrix(y_test, y_pred)\n",
    "np.set_printoptions(precision=2)\n",
    "\n",
    "# Plot non-normalized confusion matrix\n",
    "plt.figure()\n",
    "plot_confusion_matrix(cnf_matrix, classes=class_names,\n",
    "                      title='Confusion matrix, without normalization')\n",
    "\n",
    "# Plot normalized confusion matrix\n",
    "plt.figure()\n",
    "plot_confusion_matrix(cnf_matrix, classes=class_names, normalize=True,\n",
    "                      title='Normalized confusion matrix')\n",
    "\n",
    "plt.show()\n",
    "print(\"Accuracy: {:.4f}\".format(np.mean(y_test==y_pred)))"
   ]
  },
  {
   "cell_type": "code",
   "execution_count": null,
   "metadata": {},
   "outputs": [],
   "source": []
  }
 ],
 "metadata": {
  "kernelspec": {
   "display_name": "Python 3",
   "language": "python",
   "name": "python3"
  },
  "language_info": {
   "codemirror_mode": {
    "name": "ipython",
    "version": 3
   },
   "file_extension": ".py",
   "mimetype": "text/x-python",
   "name": "python",
   "nbconvert_exporter": "python",
   "pygments_lexer": "ipython3",
   "version": "3.7.1"
  }
 },
 "nbformat": 4,
 "nbformat_minor": 2
}
