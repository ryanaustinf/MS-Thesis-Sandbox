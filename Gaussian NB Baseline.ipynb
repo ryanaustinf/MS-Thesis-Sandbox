{
 "cells": [
  {
   "cell_type": "code",
   "execution_count": 2,
   "metadata": {},
   "outputs": [],
   "source": [
    "# https://github.com/pytorch/examples/blob/master/mnist/main.py\n",
    "from __future__ import print_function\n",
    "%matplotlib inline\n",
    "import pandas as pd\n",
    "import matplotlib.pyplot as plt\n",
    "import argparse\n",
    "import torch\n",
    "import torch.nn as nn\n",
    "import torch.nn.functional as F\n",
    "import torch.optim as optim\n",
    "from torchvision import datasets, transforms\n",
    "from torch.autograd import Variable\n",
    "import numpy as np\n",
    "import PIL\n",
    "from random import shuffle\n",
    "# from skimage.transform import resize\n",
    "from torch.utils.data import Dataset, DataLoader\n",
    "from tqdm import tqdm\n",
    "from sklearn.naive_bayes import GaussianNB\n",
    "import random\n",
    "import pickle"
   ]
  },
  {
   "cell_type": "code",
   "execution_count": 3,
   "metadata": {},
   "outputs": [],
   "source": [
    "with open('dataconvall.pt', 'rb') as f:\n",
    "    data = pickle.load(f)\n",
    "    \n",
    "with open('labelsall.pt', 'rb') as f:\n",
    "    labels = pickle.load(f)\n",
    "    \n",
    "with open('datavalconvall.pt', 'rb') as f:\n",
    "    dataVal = pickle.load(f)\n",
    "    \n",
    "with open('labelsval.pt', 'rb') as f:\n",
    "    labelsVal = pickle.load(f)"
   ]
  },
  {
   "cell_type": "code",
   "execution_count": 11,
   "metadata": {},
   "outputs": [
    {
     "name": "stdout",
     "output_type": "stream",
     "text": [
      "Fold 1\n",
      "Fold Train Loss 0.653096 Fold Train Accuracy 0.660167 Fold Test Loss 0.678977 Fold Test Accuracy 0.634286\n",
      "Fold 2\n",
      "Fold Train Loss 0.603305 Fold Train Accuracy 0.709091 Fold Test Loss 0.655959 Fold Test Accuracy 0.657303\n",
      "Fold 3\n",
      "Fold Train Loss 0.704261 Fold Train Accuracy 0.609001 Fold Test Loss 0.774801 Fold Test Accuracy 0.538462\n",
      "Fold 4\n",
      "Fold Train Loss 0.631699 Fold Train Accuracy 0.681564 Fold Test Loss 0.618347 Fold Test Accuracy 0.694915\n",
      "Fold 5\n",
      "Fold Train Loss 0.662982 Fold Train Accuracy 0.650281 Fold Test Loss 0.760776 Fold Test Accuracy 0.552486\n",
      "Average Train Loss 0.651068\n",
      "Average Train Accuracy: 0.662021\n",
      "Average Test Loss 0.697772\n",
      "Average Test Accuracy: 0.615490\n",
      "\n"
     ]
    }
   ],
   "source": [
    "avedloss, avedacc, avevloss, avevacc = 0,0,0,0\n",
    "crit = nn.CrossEntropyLoss()\n",
    "\n",
    "for i in range(5):\n",
    "    model = GaussianNB()\n",
    "    print(\"Fold %d\" % (i + 1))\n",
    "    trainX = np.empty((0,3,384,683))\n",
    "    trainY = []\n",
    "    testX = np.empty((0,3,384,683))\n",
    "    testY = []\n",
    "    for j in range(5):\n",
    "        if i != j:\n",
    "            trainX = np.append(trainX,data[j],axis=0)\n",
    "            trainY = trainY + labels[j]\n",
    "        else:\n",
    "            testX = data[j]\n",
    "            testY = labels[j]\n",
    "    trainX = trainX.reshape((len(trainX),3 * 384 * 683))\n",
    "    trainY = np.array(trainY)\n",
    "    testX = testX.reshape((len(testX),3 * 384 * 683))\n",
    "    testY = np.array(testY)\n",
    "    model.fit(trainX,trainY)\n",
    "    train_out = model.predict(trainX)\n",
    "    test_out = model.predict(testX)\n",
    "    train_prob_out = model.predict_proba(trainX)\n",
    "    test_prob_out = model.predict_proba(testX)\n",
    "    A = torch.from_numpy(np.asarray(train_prob_out,dtype=np.uint8)).type('torch.FloatTensor')\n",
    "    B = torch.from_numpy(np.asarray(trainY,dtype=np.uint8)).type('torch.LongTensor')\n",
    "    folddloss = crit(A,B).item()\n",
    "    A = torch.from_numpy(np.asarray(test_prob_out,dtype=np.uint8)).type('torch.FloatTensor')\n",
    "    B = torch.from_numpy(np.asarray(testY,dtype=np.uint8)).type('torch.LongTensor')\n",
    "    foldvloss = crit(A,B).item()\n",
    "    folddacc = np.mean(train_out == trainY)\n",
    "    foldvacc = np.mean(test_out == testY)\n",
    "    print(\"Fold Train Loss {:.6f} Fold Train Accuracy {:.6f} Fold Test Loss {:.6f} Fold Test Accuracy {:.6f}\".format(folddloss,folddacc * 100,foldvloss,foldvacc * 100))\n",
    "    avedacc += folddacc\n",
    "    avevacc += foldvacc\n",
    "    avedloss += folddloss\n",
    "    avevloss += foldvloss\n",
    "\n",
    "avedloss /= 5\n",
    "avedacc /= 5\n",
    "avevloss /= 5\n",
    "avevacc /= 5\n",
    "print(\"Average Train Loss {:.6f}\\nAverage Train Accuracy: {:.6f}\\nAverage Test Loss {:.6f}\\nAverage Test Accuracy: {:.6f}\\n\".format(avedloss,avedacc * 100,avevloss,avevacc * 100))"
   ]
  },
  {
   "cell_type": "code",
   "execution_count": 4,
   "metadata": {},
   "outputs": [
    {
     "name": "stdout",
     "output_type": "stream",
     "text": [
      "(893, 786816) (893,)\n",
      "Validation Train Accuracy 0.648376 \n",
      "Validation Test Accuracy 0.622222 \n"
     ]
    }
   ],
   "source": [
    "avedacc, avevacc = 0,0\n",
    "\n",
    "model = GaussianNB()\n",
    "trainX = np.empty((0,3,384,683))\n",
    "trainY = []\n",
    "for j in range(5):\n",
    "    trainX = np.append(trainX,data[j],axis=0)\n",
    "    trainY = trainY + labels[j]\n",
    "trainX = trainX.reshape((len(trainX),3 * 384 * 683))\n",
    "trainY = np.array(trainY)\n",
    "print(trainX.shape,trainY.shape)\n",
    "\n",
    "model.fit(trainX,trainY)\n",
    "\n",
    "train_out = model.predict(trainX)\n",
    "train_prob_out = model.predict_proba(trainX)\n",
    "folddacc = np.mean(train_out == np.array(trainY))\n",
    "print(\"Validation Train Accuracy {:.6f} \".format(folddacc))\n",
    "\n",
    "val_out = model.predict(dataVal.reshape(len(dataVal),3 * 384 * 683))\n",
    "val_prob_out = model.predict_proba(dataVal.reshape(len(dataVal),3 * 384 * 683))\n",
    "foldvacc = np.mean(val_out == np.array(labelsVal))\n",
    "print(\"Validation Test Accuracy {:.6f} \".format(foldvacc))\n",
    "# print(train_out)\n",
    "# print(temp_out)"
   ]
  },
  {
   "cell_type": "code",
   "execution_count": 23,
   "metadata": {},
   "outputs": [
    {
     "name": "stdout",
     "output_type": "stream",
     "text": [
      "0.6648828983306885\n",
      "0.6910391449928284\n"
     ]
    }
   ],
   "source": [
    "crit = nn.CrossEntropyLoss()\n",
    "train_prob_out = torch.from_numpy(np.asarray(train_prob_out,dtype=np.uint8)).type('torch.FloatTensor')\n",
    "train_labels = torch.from_numpy(np.asarray(trainY,dtype=np.uint8)).type('torch.LongTensor')\n",
    "loss = crit(train_prob_out, train_labels)\n",
    "print(loss.item())\n",
    "val_prob_out = torch.from_numpy(np.asarray(val_prob_out,dtype=np.uint8)).type('torch.FloatTensor')\n",
    "labels_out = torch.from_numpy(np.asarray(labelsVal,dtype=np.uint8)).type('torch.LongTensor')\n",
    "loss = crit(val_prob_out, labels_out)\n",
    "print(loss.item())"
   ]
  },
  {
   "cell_type": "code",
   "execution_count": 24,
   "metadata": {},
   "outputs": [],
   "source": [
    "with open('naivebayesoutprobs.pt', 'wb') as f:\n",
    "    pickle.dump(val_prob_out[:,1], f)\n",
    "with open('naivebayesout.pt', 'wb') as f:\n",
    "    pickle.dump(val_out, f)\n"
   ]
  },
  {
   "cell_type": "code",
   "execution_count": 25,
   "metadata": {},
   "outputs": [
    {
     "name": "stdout",
     "output_type": "stream",
     "text": [
      "Confusion matrix, without normalization\n",
      "[[13 12]\n",
      " [ 5 15]]\n",
      "Normalized confusion matrix\n",
      "[[0.52 0.48]\n",
      " [0.25 0.75]]\n"
     ]
    },
    {
     "data": {
      "image/png": "[encoded data removed]",
      "text/plain": [
       "<Figure size 432x288 with 2 Axes>"
      ]
     },
     "metadata": {
      "needs_background": "light"
     },
     "output_type": "display_data"
    },
    {
     "data": {
      "image/png": "[encoded data removed]",
      "text/plain": [
       "<Figure size 432x288 with 2 Axes>"
      ]
     },
     "metadata": {
      "needs_background": "light"
     },
     "output_type": "display_data"
    },
    {
     "name": "stdout",
     "output_type": "stream",
     "text": [
      "Accuracy: 0.6222\n"
     ]
    }
   ],
   "source": [
    "from sklearn.metrics import *\n",
    "import itertools\n",
    "import pickle\n",
    "with open('naivebayesout.pt', 'rb') as f:\n",
    "    y_pred = pickle.load(f)\n",
    "\n",
    "def plot_confusion_matrix(cm, classes,\n",
    "                          normalize=False,\n",
    "                          title='Confusion matrix',\n",
    "                          cmap=plt.cm.Blues):\n",
    "    \"\"\"\n",
    "    This function prints and plots the confusion matrix.\n",
    "    Normalization can be applied by setting `normalize=True`.\n",
    "    \"\"\"\n",
    "    if normalize:\n",
    "        cm = cm.astype('float') / cm.sum(axis=1)[:, np.newaxis]\n",
    "        print(\"Normalized confusion matrix\")\n",
    "    else:\n",
    "        print('Confusion matrix, without normalization')\n",
    "\n",
    "    print(cm)\n",
    "\n",
    "    plt.imshow(cm, interpolation='nearest', cmap=cmap)\n",
    "    plt.title(title)\n",
    "    plt.colorbar()\n",
    "    tick_marks = np.arange(len(classes))\n",
    "    plt.xticks(tick_marks, classes, rotation=45)\n",
    "    plt.yticks(tick_marks, classes)\n",
    "\n",
    "    fmt = '.2f' if normalize else 'd'\n",
    "    thresh = cm.max() / 2.\n",
    "    for i, j in itertools.product(range(cm.shape[0]), range(cm.shape[1])):\n",
    "        plt.text(j, i, format(cm[i, j], fmt),\n",
    "                 horizontalalignment=\"center\",\n",
    "                 color=\"white\" if cm[i, j] > thresh else \"black\")\n",
    "\n",
    "    plt.ylabel('True label')\n",
    "    plt.xlabel('Predicted label')\n",
    "    plt.tight_layout()\n",
    "\n",
    "\n",
    "y_test = np.array([])\n",
    "\n",
    "for x in labelsVal:\n",
    "    y_test = np.append(y_test,x)\n",
    "\n",
    "class_names = [\"bad site\",\"good site\"]\n",
    "\n",
    "# Compute confusion matrix\n",
    "cnf_matrix = confusion_matrix(y_test, y_pred)\n",
    "np.set_printoptions(precision=2)\n",
    "\n",
    "# Plot non-normalized confusion matrix\n",
    "plt.figure()\n",
    "plot_confusion_matrix(cnf_matrix, classes=class_names,\n",
    "                      title='Confusion matrix, without normalization')\n",
    "\n",
    "# Plot normalized confusion matrix\n",
    "plt.figure()\n",
    "plot_confusion_matrix(cnf_matrix, classes=class_names, normalize=True,\n",
    "                      title='Normalized confusion matrix')\n",
    "\n",
    "plt.show()\n",
    "print(\"Accuracy: {:.4f}\".format(np.mean(y_test==y_pred)))"
   ]
  },
  {
   "cell_type": "code",
   "execution_count": null,
   "metadata": {},
   "outputs": [],
   "source": []
  }
 ],
 "metadata": {
  "kernelspec": {
   "display_name": "Python 3",
   "language": "python",
   "name": "python3"
  },
  "language_info": {
   "codemirror_mode": {
    "name": "ipython",
    "version": 3
   },
   "file_extension": ".py",
   "mimetype": "text/x-python",
   "name": "python",
   "nbconvert_exporter": "python",
   "pygments_lexer": "ipython3",
   "version": "3.7.1"
  }
 },
 "nbformat": 4,
 "nbformat_minor": 2
}
